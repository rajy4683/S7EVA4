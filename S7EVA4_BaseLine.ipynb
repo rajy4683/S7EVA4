{
  "nbformat": 4,
  "nbformat_minor": 0,
  "metadata": {
    "colab": {
      "name": "S7EVA4.ipynb",
      "provenance": [],
      "collapsed_sections": [],
      "toc_visible": true,
      "authorship_tag": "ABX9TyPNKr6PYg5pIZzQBb/lqoHp",
      "include_colab_link": true
    },
    "kernelspec": {
      "name": "python3",
      "display_name": "Python 3"
    },
    "accelerator": "GPU"
  },
  "cells": [
    {
      "cell_type": "markdown",
      "metadata": {
        "id": "view-in-github",
        "colab_type": "text"
      },
      "source": [
        "<a href=\"https://colab.research.google.com/github/rajy4683/S7EVA4/blob/master/S7EVA4_BaseLine.ipynb\" target=\"_parent\"><img src=\"https://colab.research.google.com/assets/colab-badge.svg\" alt=\"Open In Colab\"/></a>"
      ]
    },
    {
      "cell_type": "code",
      "metadata": {
        "id": "ilBDSmXWKgFJ",
        "colab_type": "code",
        "outputId": "3400c6aa-42ec-4ec5-fd81-4c700e1f0a4b",
        "colab": {
          "base_uri": "https://localhost:8080/",
          "height": 34
        }
      },
      "source": [
        "from google.colab import drive\n",
        "drive.mount('/content/drive')\n",
        "import sys\n"
      ],
      "execution_count": 1,
      "outputs": [
        {
          "output_type": "stream",
          "text": [
            "Drive already mounted at /content/drive; to attempt to forcibly remount, call drive.mount(\"/content/drive\", force_remount=True).\n"
          ],
          "name": "stdout"
        }
      ]
    },
    {
      "cell_type": "code",
      "metadata": {
        "id": "wmDiac5MMYuB",
        "colab_type": "code",
        "colab": {}
      },
      "source": [
        "# !pip install pytorch-ignite\n",
        "# !pip install torchsummary\n",
        "# !pip install wandb"
      ],
      "execution_count": 0,
      "outputs": []
    },
    {
      "cell_type": "code",
      "metadata": {
        "id": "9jXqRCsIMlaP",
        "colab_type": "code",
        "outputId": "3ef0d2a1-6b6c-4711-8f24-2a6e0ef9ed8c",
        "colab": {
          "base_uri": "https://localhost:8080/",
          "height": 50
        }
      },
      "source": [
        "!wandb login a6f947d2d2f69e7a8c8ca0f69811fd554f27d204"
      ],
      "execution_count": 2,
      "outputs": [
        {
          "output_type": "stream",
          "text": [
            "\u001b[34m\u001b[1mwandb\u001b[0m: Appending key for api.wandb.ai to your netrc file: /root/.netrc\n",
            "\u001b[32mSuccessfully logged in to Weights & Biases!\u001b[0m\n"
          ],
          "name": "stdout"
        }
      ]
    },
    {
      "cell_type": "code",
      "metadata": {
        "id": "n47ydpLGKpts",
        "colab_type": "code",
        "colab": {}
      },
      "source": [
        "#!pip install git+https://github.com/rajy4683/RekogNizer.git"
      ],
      "execution_count": 0,
      "outputs": []
    },
    {
      "cell_type": "code",
      "metadata": {
        "id": "-u1pUWK8PGHF",
        "colab_type": "code",
        "colab": {}
      },
      "source": [
        "#!git clone https://github.com/rajy4683/RekogNizer.git /content/drive/My\\ Drive/EVA4/TestImports"
      ],
      "execution_count": 0,
      "outputs": []
    },
    {
      "cell_type": "code",
      "metadata": {
        "id": "GtEDAJTjP9_R",
        "colab_type": "code",
        "colab": {}
      },
      "source": [
        "sys.path.append('/content/drive/My Drive/EVA4/')\n",
        "sys.path.append('/content/drive/My Drive/EVA4/RekogNizer')\n"
      ],
      "execution_count": 0,
      "outputs": []
    },
    {
      "cell_type": "code",
      "metadata": {
        "id": "Im4DxNueKpZJ",
        "colab_type": "code",
        "colab": {
          "base_uri": "https://localhost:8080/",
          "height": 67
        },
        "outputId": "07e59c61-8ad4-404f-c144-37322ce42b72"
      },
      "source": [
        "from RekogNizer.hyperparams import *\n",
        "from RekogNizer import basemodelclass\n",
        "from RekogNizer.fileutils import *\n",
        "from RekogNizer.dataloader import *\n",
        "from RekogNizer.traintest import *\n",
        "!pip install torchsummary\n",
        "from torchsummary import summary\n",
        "device = torch.device(\"cuda\" if not hyperparameter_defaults['no_cuda'] else \"cpu\")\n"
      ],
      "execution_count": 4,
      "outputs": [
        {
          "output_type": "stream",
          "text": [
            "Files already downloaded and verified\n",
            "Files already downloaded and verified\n",
            "Requirement already satisfied: torchsummary in /usr/local/lib/python3.6/dist-packages (1.5.1)\n"
          ],
          "name": "stdout"
        }
      ]
    },
    {
      "cell_type": "code",
      "metadata": {
        "id": "m_HutCKlUwuW",
        "colab_type": "code",
        "outputId": "17150cef-5d01-43a5-c1af-ead552fc9191",
        "colab": {
          "base_uri": "https://localhost:8080/",
          "height": 34
        }
      },
      "source": [
        "rand_run_name()"
      ],
      "execution_count": 5,
      "outputs": [
        {
          "output_type": "execute_result",
          "data": {
            "text/plain": [
              "'c91b9c4f8f'"
            ]
          },
          "metadata": {
            "tags": []
          },
          "execution_count": 5
        }
      ]
    },
    {
      "cell_type": "code",
      "metadata": {
        "id": "9-dPlEuHZzmk",
        "colab_type": "code",
        "outputId": "f381c24f-3d70-4aa4-da7e-b5a1dfb74515",
        "colab": {
          "base_uri": "https://localhost:8080/",
          "height": 34
        }
      },
      "source": [
        "len(trainloader)\n",
        "dataiter = iter(trainloader)\n",
        "images, labels = dataiter.next()\n",
        "print(images.shape)"
      ],
      "execution_count": 6,
      "outputs": [
        {
          "output_type": "stream",
          "text": [
            "torch.Size([4, 3, 32, 32])\n"
          ],
          "name": "stdout"
        }
      ]
    },
    {
      "cell_type": "code",
      "metadata": {
        "id": "hzFBNpIfLhfQ",
        "colab_type": "code",
        "outputId": "62d8f7e4-a3c4-4e1a-e3e1-8e02dcd21e84",
        "colab": {
          "base_uri": "https://localhost:8080/",
          "height": 34
        }
      },
      "source": [
        "hyperparameter_defaults['seed']"
      ],
      "execution_count": 7,
      "outputs": [
        {
          "output_type": "execute_result",
          "data": {
            "text/plain": [
              "1"
            ]
          },
          "metadata": {
            "tags": []
          },
          "execution_count": 7
        }
      ]
    },
    {
      "cell_type": "code",
      "metadata": {
        "id": "phygoXmeZ6Cr",
        "colab_type": "code",
        "outputId": "5ca02aa5-a828-447b-fa73-26751865c6d4",
        "colab": {
          "base_uri": "https://localhost:8080/",
          "height": 155
        }
      },
      "source": [
        "#import torch\n",
        "get_image_samples(trainloader, classes)"
      ],
      "execution_count": 8,
      "outputs": [
        {
          "output_type": "stream",
          "text": [
            "plane   dog  deer  deer\n"
          ],
          "name": "stdout"
        },
        {
          "output_type": "display_data",
          "data": {
            "image/png": "[encoded data removed]",
            "text/plain": [
              "<Figure size 432x288 with 1 Axes>"
            ]
          },
          "metadata": {
            "tags": []
          }
        }
      ]
    },
    {
      "cell_type": "code",
      "metadata": {
        "id": "CCqyKc9ErdVF",
        "colab_type": "code",
        "colab": {}
      },
      "source": [
        "class SeparableConv2d(nn.Module):\n",
        "    def __init__(self,in_channels,out_channels,kernel_size=1,stride=1,padding=0,dilation=1,bias=False):\n",
        "        super(SeparableConv2d,self).__init__()\n",
        "\n",
        "        self.conv1 = nn.Conv2d(in_channels,in_channels,kernel_size,stride,padding,dilation,groups=in_channels,bias=bias)\n",
        "        self.pointwise = nn.Conv2d(in_channels,out_channels,1,1,0,1,1,bias=bias)\n",
        "    \n",
        "    def forward(self,x):\n",
        "        x = self.conv1(x)\n",
        "        x = self.pointwise(x)\n",
        "        return x\n",
        "\n",
        "\n",
        "class CIFARModel(nn.Module):\n",
        "    def __init__(self):\n",
        "        super(CIFARModel, self).__init__()\n",
        "        self.layer1_channels = 32\n",
        "        self.dropout_val = 0.1\n",
        "        self.bias = False\n",
        "\n",
        "        self.conv1 = nn.Sequential(\n",
        "            nn.Conv2d(3, self.layer1_channels, 3, padding=1, stride=1,bias=self.bias),            \n",
        "            nn.BatchNorm2d(self.layer1_channels),\n",
        "            nn.ReLU(),\n",
        "            nn.Dropout(self.dropout_val),\n",
        "            nn.Conv2d(self.layer1_channels, self.layer1_channels, 3, padding=1, stride=1,bias=self.bias),            \n",
        "            nn.BatchNorm2d(self.layer1_channels),\n",
        "            nn.ReLU(),\n",
        "            # nn.Conv2d(self.layer1_channels, self.layer1_channels, 3, padding=1, bias=self.bias),            \n",
        "            # nn.BatchNorm2d(self.layer1_channels),\n",
        "            # nn.ReLU(),\n",
        "            nn.MaxPool2d(2, 2),\n",
        "            nn.Dropout(self.dropout_val))\n",
        "\n",
        "        self.conv2 = nn.Sequential(\n",
        "            nn.Conv2d(self.layer1_channels, self.layer1_channels*2, 3, padding=1, stride=1,bias=self.bias),            \n",
        "            nn.BatchNorm2d(self.layer1_channels*2),\n",
        "            nn.ReLU(),\n",
        "            nn.Dropout(self.dropout_val),\n",
        "            nn.Conv2d(self.layer1_channels*2, self.layer1_channels*2, 3, padding=1, stride=1,bias=self.bias),            \n",
        "            nn.BatchNorm2d(self.layer1_channels*2),\n",
        "            nn.ReLU(),\n",
        "            # nn.Conv2d(self.layer1_channels*2, self.layer1_channels*2, 3, padding=1, bias=self.bias),            \n",
        "            # nn.BatchNorm2d(self.layer1_channels*2),\n",
        "            # nn.ReLU(),\n",
        "            nn.MaxPool2d(2, 2),\n",
        "            nn.Dropout(self.dropout_val))\n",
        "\n",
        "        self.conv3 = nn.Sequential(\n",
        "            nn.Conv2d(self.layer1_channels*2, self.layer1_channels*4, 3, padding=1, stride=1,bias=self.bias),            \n",
        "            nn.BatchNorm2d(self.layer1_channels*4),\n",
        "            nn.ReLU(),\n",
        "            nn.Dropout(self.dropout_val),\n",
        "            nn.Conv2d(self.layer1_channels*4, self.layer1_channels*4, 3, padding=1, stride=1,bias=self.bias),            \n",
        "            nn.BatchNorm2d(self.layer1_channels*4),\n",
        "            nn.ReLU(),\n",
        "            # nn.Conv2d(self.layer1_channels*4, self.layer1_channels*4, 3, padding=1, bias=self.bias),            \n",
        "            # nn.BatchNorm2d(self.layer1_channels*4),\n",
        "            # nn.ReLU(),\n",
        "            nn.MaxPool2d(2, 2),\n",
        "            nn.Dropout(self.dropout_val))\n",
        "\n",
        "        self.conv4 = nn.Sequential(\n",
        "            nn.Conv2d(self.layer1_channels*4, self.layer1_channels*8, 3, padding=1, stride=1,bias=self.bias),            \n",
        "            nn.BatchNorm2d(self.layer1_channels*8),\n",
        "            nn.ReLU(),\n",
        "            nn.Dropout(self.dropout_val),\n",
        "            nn.Conv2d(self.layer1_channels*8, self.layer1_channels*8, 3, padding=1, stride=1,bias=self.bias),            \n",
        "            nn.BatchNorm2d(self.layer1_channels*8),\n",
        "            nn.ReLU(),\n",
        "            # nn.Conv2d(self.layer1_channels*4, self.layer1_channels*4, 3, padding=1, bias=self.bias),            \n",
        "            # nn.BatchNorm2d(self.layer1_channels*8),\n",
        "            # nn.ReLU(),\n",
        "            #nn.MaxPool2d(2, 2),\n",
        "            nn.Dropout(self.dropout_val))\n",
        "        \n",
        "        self.gap_linear = nn.Sequential(\n",
        "            nn.AdaptiveAvgPool2d((1,1)),\n",
        "            nn.Conv2d(self.layer1_channels*8, 10, 1, bias=self.bias)\n",
        "        )\n",
        "\n",
        "    def forward(self, x):\n",
        "        # x = self.pool(F.relu(self.conv1(x)))\n",
        "        # x = self.pool(F.relu(self.conv2(x)))\n",
        "        # x = x.view(-1, 16 * 5 * 5)\n",
        "        # x = F.relu(self.fc1(x))\n",
        "        # x = F.relu(self.fc2(x))\n",
        "        # x = self.fc3(x)\n",
        "\n",
        "        x = self.conv1(x)\n",
        "        x = self.conv2(x)\n",
        "        x = self.conv3(x)\n",
        "        x = self.conv4(x)\n",
        "        #x = x.view(x.size(0), -1)\n",
        "        x = self.gap_linear(x)\n",
        "        x = x.view(-1, 10)\n",
        "        x = F.log_softmax(x, dim=1)\n",
        "\n",
        "        return x"
      ],
      "execution_count": 0,
      "outputs": []
    },
    {
      "cell_type": "code",
      "metadata": {
        "id": "Gbm_TYgrLnsH",
        "colab_type": "code",
        "colab": {}
      },
      "source": [
        "\n",
        "\n",
        "#model = basemodelclass.CIFARModelBuilder()#.to(device)\n",
        "#summary(model,input_size=(3, 32, 32))\n",
        "#model_new = CIFARModel().to(device)\n",
        "#summary(model_new,input_size=(3, 32, 32))\n",
        "\n"
      ],
      "execution_count": 0,
      "outputs": []
    },
    {
      "cell_type": "code",
      "metadata": {
        "id": "OxuP_XSYwzoN",
        "colab_type": "code",
        "colab": {
          "base_uri": "https://localhost:8080/",
          "height": 857
        },
        "outputId": "8ae764c5-9187-438b-d5de-d1be7ad0bb84"
      },
      "source": [
        "model_new = CIFARModel().to(device)\n",
        "summary(model_new,input_size=(3, 32, 32))"
      ],
      "execution_count": 23,
      "outputs": [
        {
          "output_type": "stream",
          "text": [
            "----------------------------------------------------------------\n",
            "        Layer (type)               Output Shape         Param #\n",
            "================================================================\n",
            "            Conv2d-1           [-1, 32, 32, 32]             864\n",
            "       BatchNorm2d-2           [-1, 32, 32, 32]              64\n",
            "              ReLU-3           [-1, 32, 32, 32]               0\n",
            "           Dropout-4           [-1, 32, 32, 32]               0\n",
            "            Conv2d-5           [-1, 32, 32, 32]           9,216\n",
            "       BatchNorm2d-6           [-1, 32, 32, 32]              64\n",
            "              ReLU-7           [-1, 32, 32, 32]               0\n",
            "         MaxPool2d-8           [-1, 32, 16, 16]               0\n",
            "           Dropout-9           [-1, 32, 16, 16]               0\n",
            "           Conv2d-10           [-1, 64, 16, 16]          18,432\n",
            "      BatchNorm2d-11           [-1, 64, 16, 16]             128\n",
            "             ReLU-12           [-1, 64, 16, 16]               0\n",
            "          Dropout-13           [-1, 64, 16, 16]               0\n",
            "           Conv2d-14           [-1, 64, 16, 16]          36,864\n",
            "      BatchNorm2d-15           [-1, 64, 16, 16]             128\n",
            "             ReLU-16           [-1, 64, 16, 16]               0\n",
            "        MaxPool2d-17             [-1, 64, 8, 8]               0\n",
            "          Dropout-18             [-1, 64, 8, 8]               0\n",
            "           Conv2d-19            [-1, 128, 8, 8]          73,728\n",
            "      BatchNorm2d-20            [-1, 128, 8, 8]             256\n",
            "             ReLU-21            [-1, 128, 8, 8]               0\n",
            "          Dropout-22            [-1, 128, 8, 8]               0\n",
            "           Conv2d-23            [-1, 128, 8, 8]         147,456\n",
            "      BatchNorm2d-24            [-1, 128, 8, 8]             256\n",
            "             ReLU-25            [-1, 128, 8, 8]               0\n",
            "        MaxPool2d-26            [-1, 128, 4, 4]               0\n",
            "          Dropout-27            [-1, 128, 4, 4]               0\n",
            "           Conv2d-28            [-1, 256, 4, 4]         294,912\n",
            "      BatchNorm2d-29            [-1, 256, 4, 4]             512\n",
            "             ReLU-30            [-1, 256, 4, 4]               0\n",
            "          Dropout-31            [-1, 256, 4, 4]               0\n",
            "           Conv2d-32            [-1, 256, 4, 4]         589,824\n",
            "      BatchNorm2d-33            [-1, 256, 4, 4]             512\n",
            "             ReLU-34            [-1, 256, 4, 4]               0\n",
            "          Dropout-35            [-1, 256, 4, 4]               0\n",
            "AdaptiveAvgPool2d-36            [-1, 256, 1, 1]               0\n",
            "           Conv2d-37             [-1, 10, 1, 1]           2,560\n",
            "================================================================\n",
            "Total params: 1,175,776\n",
            "Trainable params: 1,175,776\n",
            "Non-trainable params: 0\n",
            "----------------------------------------------------------------\n",
            "Input size (MB): 0.01\n",
            "Forward/backward pass size (MB): 3.53\n",
            "Params size (MB): 4.49\n",
            "Estimated Total Size (MB): 8.03\n",
            "----------------------------------------------------------------\n"
          ],
          "name": "stdout"
        }
      ]
    },
    {
      "cell_type": "code",
      "metadata": {
        "id": "eS-9Rga8wQY8",
        "colab_type": "code",
        "colab": {}
      },
      "source": [
        "dataiter = iter(trainloader)\n",
        "images, labels = dataiter.next()\n",
        "#optimizer.zero_grad()\n",
        "output = model(images)"
      ],
      "execution_count": 0,
      "outputs": []
    },
    {
      "cell_type": "code",
      "metadata": {
        "id": "tmeLLfJmwsLt",
        "colab_type": "code",
        "colab": {
          "base_uri": "https://localhost:8080/",
          "height": 151
        },
        "outputId": "c9672c12-3947-4486-9d67-a00884c5b1b1"
      },
      "source": [
        "output"
      ],
      "execution_count": 31,
      "outputs": [
        {
          "output_type": "execute_result",
          "data": {
            "text/plain": [
              "tensor([[ 0.0054, -0.1331, -0.1049, -0.0413, -0.0328,  0.0552, -0.1212, -0.1326,\n",
              "          0.0343,  0.0638],\n",
              "        [ 0.0229, -0.1250, -0.0889, -0.0223, -0.0316,  0.0527, -0.0895, -0.1009,\n",
              "          0.0306,  0.0625],\n",
              "        [ 0.0282, -0.1315, -0.0934, -0.0173, -0.0338,  0.0596, -0.0980, -0.1147,\n",
              "          0.0361,  0.0707],\n",
              "        [ 0.0145, -0.1354, -0.0915, -0.0329, -0.0419,  0.0546, -0.0907, -0.1101,\n",
              "          0.0335,  0.0606]], grad_fn=<AddmmBackward>)"
            ]
          },
          "metadata": {
            "tags": []
          },
          "execution_count": 31
        }
      ]
    },
    {
      "cell_type": "code",
      "metadata": {
        "id": "MLtp5Y-YR3I5",
        "colab_type": "code",
        "outputId": "dbdcb984-998d-45af-eacf-718457625a9b",
        "colab": {
          "base_uri": "https://localhost:8080/",
          "height": 34
        }
      },
      "source": [
        "type(model_new)"
      ],
      "execution_count": 14,
      "outputs": [
        {
          "output_type": "execute_result",
          "data": {
            "text/plain": [
              "__main__.CIFARModel"
            ]
          },
          "metadata": {
            "tags": []
          },
          "execution_count": 14
        }
      ]
    },
    {
      "cell_type": "code",
      "metadata": {
        "id": "t883zv-eTlh2",
        "colab_type": "code",
        "colab": {}
      },
      "source": [
        "def calculate_loss(loss_fn):\n",
        "    loss = loss_fn#nn.CrossEntropyLoss()\n",
        "    input = torch.randn(3, 5, requires_grad=True)\n",
        "    target = torch.empty(3, dtype=torch.long).random_(5)\n",
        "    output = loss(input, target)\n",
        "    output.backward()\n",
        "    print(output.item())"
      ],
      "execution_count": 0,
      "outputs": []
    },
    {
      "cell_type": "code",
      "metadata": {
        "id": "4OrgHX-MVO79",
        "colab_type": "code",
        "colab": {}
      },
      "source": [
        "def calc_loss(loss_fn):\n",
        "    calculate_loss(loss_fn())\n",
        "    calculate_loss(loss_fn(reduction='sum'))"
      ],
      "execution_count": 0,
      "outputs": []
    },
    {
      "cell_type": "code",
      "metadata": {
        "id": "L-e3ReZyVg75",
        "colab_type": "code",
        "outputId": "dc7eaaa9-e187-4b49-d1a7-47755d442752",
        "colab": {
          "base_uri": "https://localhost:8080/"
        }
      },
      "source": [
        "calc_loss(nn.CrossEntropyLoss)"
      ],
      "execution_count": 0,
      "outputs": [
        {
          "output_type": "stream",
          "text": [
            "1.9536319971084595\n",
            "7.3324174880981445\n"
          ],
          "name": "stdout"
        }
      ]
    },
    {
      "cell_type": "code",
      "metadata": {
        "id": "bfVvcGDsP10X",
        "colab_type": "code",
        "colab": {
          "base_uri": "https://localhost:8080/",
          "height": 1000
        },
        "outputId": "78b025e5-cd24-426b-be89-93d709e3bb67"
      },
      "source": [
        "optimizer=optim.SGD#(model.parameters(), lr=0.001, momentum=0.9)\n",
        "criterion=nn.CrossEntropyLoss\n",
        "#model = basemodelclass.CIFARModelBuilder()#.to(device)\n",
        "model_new = CIFARModel()#.to(device)\n",
        "#execute_model(model, hyperparameter_defaults, )\n",
        "execute_model(model_new, hyperparameter_defaults, \n",
        "              trainloader, testloader, \n",
        "              device, classes,\n",
        "              optimizer=optimizer,\n",
        "              criterion=criterion)"
      ],
      "execution_count": 12,
      "outputs": [
        {
          "output_type": "display_data",
          "data": {
            "text/html": [
              "\n",
              "                Logging results to <a href=\"https://wandb.com\" target=\"_blank\">Weights & Biases</a> <a href=\"https://docs.wandb.com/integrations/jupyter.html\" target=\"_blank\">(Documentation)</a>.<br/>\n",
              "                Project page: <a href=\"https://app.wandb.ai/rajy4683/news4eva4\" target=\"_blank\">https://app.wandb.ai/rajy4683/news4eva4</a><br/>\n",
              "                Run page: <a href=\"https://app.wandb.ai/rajy4683/news4eva4/runs/vc4aor2k\" target=\"_blank\">https://app.wandb.ai/rajy4683/news4eva4/runs/vc4aor2k</a><br/>\n",
              "            "
            ],
            "text/plain": [
              "<IPython.core.display.HTML object>"
            ]
          },
          "metadata": {
            "tags": []
          }
        },
        {
          "output_type": "stream",
          "text": [
            "loss=1.2377102375030518 batch_id=12499: 100%|██████████| 12500/12500 [02:32<00:00, 82.13it/s]\n",
            "  0%|          | 0/12500 [00:00<?, ?it/s]"
          ],
          "name": "stderr"
        },
        {
          "output_type": "stream",
          "text": [
            "\n",
            "Epoch: 1 Train set: Average loss: 0.3722, Accuracy: 47.200%\n",
            "Epoch: 1 Test set: Average loss: 1.0096, Accuracy: 65.010%\n"
          ],
          "name": "stdout"
        },
        {
          "output_type": "stream",
          "text": [
            "loss=0.44636639952659607 batch_id=12499: 100%|██████████| 12500/12500 [02:33<00:00, 74.73it/s]\n",
            "  0%|          | 0/12500 [00:00<?, ?it/s]"
          ],
          "name": "stderr"
        },
        {
          "output_type": "stream",
          "text": [
            "\n",
            "Epoch: 2 Train set: Average loss: 0.2648, Accuracy: 64.220%\n",
            "Epoch: 2 Test set: Average loss: 0.7303, Accuracy: 74.940%\n"
          ],
          "name": "stdout"
        },
        {
          "output_type": "stream",
          "text": [
            "loss=0.9188768863677979 batch_id=12499: 100%|██████████| 12500/12500 [02:38<00:00, 78.81it/s]\n",
            "  0%|          | 0/12500 [00:00<?, ?it/s]"
          ],
          "name": "stderr"
        },
        {
          "output_type": "stream",
          "text": [
            "\n",
            "Epoch: 3 Train set: Average loss: 0.2239, Accuracy: 69.916%\n",
            "Epoch: 3 Test set: Average loss: 0.6635, Accuracy: 77.100%\n"
          ],
          "name": "stdout"
        },
        {
          "output_type": "stream",
          "text": [
            "loss=0.8494149446487427 batch_id=12499: 100%|██████████| 12500/12500 [02:32<00:00, 81.90it/s]\n",
            "  0%|          | 0/12500 [00:00<?, ?it/s]"
          ],
          "name": "stderr"
        },
        {
          "output_type": "stream",
          "text": [
            "\n",
            "Epoch: 4 Train set: Average loss: 0.1974, Accuracy: 73.468%\n",
            "Epoch: 4 Test set: Average loss: 0.5898, Accuracy: 79.830%\n"
          ],
          "name": "stdout"
        },
        {
          "output_type": "stream",
          "text": [
            "loss=1.4021097421646118 batch_id=12499: 100%|██████████| 12500/12500 [02:34<00:00, 81.15it/s]\n",
            "  0%|          | 0/12500 [00:00<?, ?it/s]"
          ],
          "name": "stderr"
        },
        {
          "output_type": "stream",
          "text": [
            "\n",
            "Epoch: 5 Train set: Average loss: 0.1774, Accuracy: 76.294%\n",
            "Epoch: 5 Test set: Average loss: 0.5628, Accuracy: 80.870%\n"
          ],
          "name": "stdout"
        },
        {
          "output_type": "stream",
          "text": [
            "loss=0.2977205812931061 batch_id=12499: 100%|██████████| 12500/12500 [02:34<00:00, 80.78it/s]\n",
            "  0%|          | 0/12500 [00:00<?, ?it/s]"
          ],
          "name": "stderr"
        },
        {
          "output_type": "stream",
          "text": [
            "\n",
            "Epoch: 6 Train set: Average loss: 0.1648, Accuracy: 77.814%\n",
            "Epoch: 6 Test set: Average loss: 0.5364, Accuracy: 81.810%\n"
          ],
          "name": "stdout"
        },
        {
          "output_type": "stream",
          "text": [
            "loss=0.3683939278125763 batch_id=12499: 100%|██████████| 12500/12500 [02:38<00:00, 78.16it/s]\n",
            "  0%|          | 0/12500 [00:00<?, ?it/s]"
          ],
          "name": "stderr"
        },
        {
          "output_type": "stream",
          "text": [
            "\n",
            "Epoch: 7 Train set: Average loss: 0.1523, Accuracy: 79.646%\n",
            "Epoch: 7 Test set: Average loss: 0.5134, Accuracy: 82.510%\n"
          ],
          "name": "stdout"
        },
        {
          "output_type": "stream",
          "text": [
            "loss=0.8519932627677917 batch_id=12499: 100%|██████████| 12500/12500 [02:35<00:00, 83.73it/s]\n",
            "  0%|          | 0/12500 [00:00<?, ?it/s]"
          ],
          "name": "stderr"
        },
        {
          "output_type": "stream",
          "text": [
            "\n",
            "Epoch: 8 Train set: Average loss: 0.1416, Accuracy: 81.010%\n",
            "Epoch: 8 Test set: Average loss: 0.5301, Accuracy: 82.040%\n"
          ],
          "name": "stdout"
        },
        {
          "output_type": "stream",
          "text": [
            "loss=1.606776237487793 batch_id=12499: 100%|██████████| 12500/12500 [02:31<00:00, 82.40it/s]\n",
            "  0%|          | 0/12500 [00:00<?, ?it/s]"
          ],
          "name": "stderr"
        },
        {
          "output_type": "stream",
          "text": [
            "\n",
            "Epoch: 9 Train set: Average loss: 0.1332, Accuracy: 82.136%\n",
            "Epoch: 9 Test set: Average loss: 0.4898, Accuracy: 83.540%\n"
          ],
          "name": "stdout"
        },
        {
          "output_type": "stream",
          "text": [
            "loss=0.5991210341453552 batch_id=12499: 100%|██████████| 12500/12500 [02:38<00:00, 78.80it/s]\n",
            "  0%|          | 0/12500 [00:00<?, ?it/s]"
          ],
          "name": "stderr"
        },
        {
          "output_type": "stream",
          "text": [
            "\n",
            "Epoch: 10 Train set: Average loss: 0.1247, Accuracy: 83.096%\n",
            "Epoch: 10 Test set: Average loss: 0.4558, Accuracy: 84.700%\n"
          ],
          "name": "stdout"
        },
        {
          "output_type": "stream",
          "text": [
            "loss=0.726455807685852 batch_id=12499: 100%|██████████| 12500/12500 [02:42<00:00, 77.15it/s]\n",
            "  0%|          | 0/12500 [00:00<?, ?it/s]"
          ],
          "name": "stderr"
        },
        {
          "output_type": "stream",
          "text": [
            "\n",
            "Epoch: 11 Train set: Average loss: 0.1179, Accuracy: 84.176%\n",
            "Epoch: 11 Test set: Average loss: 0.4673, Accuracy: 84.240%\n"
          ],
          "name": "stdout"
        },
        {
          "output_type": "stream",
          "text": [
            "loss=0.32507041096687317 batch_id=12499: 100%|██████████| 12500/12500 [02:38<00:00, 78.76it/s]\n",
            "  0%|          | 0/12500 [00:00<?, ?it/s]"
          ],
          "name": "stderr"
        },
        {
          "output_type": "stream",
          "text": [
            "\n",
            "Epoch: 12 Train set: Average loss: 0.1109, Accuracy: 85.058%\n",
            "Epoch: 12 Test set: Average loss: 0.4341, Accuracy: 85.110%\n"
          ],
          "name": "stdout"
        },
        {
          "output_type": "stream",
          "text": [
            "loss=1.0451322793960571 batch_id=12499: 100%|██████████| 12500/12500 [02:37<00:00, 79.38it/s]\n",
            "  0%|          | 0/12500 [00:00<?, ?it/s]"
          ],
          "name": "stderr"
        },
        {
          "output_type": "stream",
          "text": [
            "\n",
            "Epoch: 13 Train set: Average loss: 0.1058, Accuracy: 85.562%\n",
            "Epoch: 13 Test set: Average loss: 0.4328, Accuracy: 85.090%\n"
          ],
          "name": "stdout"
        },
        {
          "output_type": "stream",
          "text": [
            "loss=0.08699675649404526 batch_id=12499: 100%|██████████| 12500/12500 [02:34<00:00, 80.75it/s]\n",
            "  0%|          | 0/12500 [00:00<?, ?it/s]"
          ],
          "name": "stderr"
        },
        {
          "output_type": "stream",
          "text": [
            "\n",
            "Epoch: 14 Train set: Average loss: 0.0998, Accuracy: 86.598%\n",
            "Epoch: 14 Test set: Average loss: 0.4276, Accuracy: 85.400%\n"
          ],
          "name": "stdout"
        },
        {
          "output_type": "stream",
          "text": [
            "loss=0.2672578990459442 batch_id=12499: 100%|██████████| 12500/12500 [02:48<00:00, 68.98it/s]\n"
          ],
          "name": "stderr"
        },
        {
          "output_type": "stream",
          "text": [
            "\n",
            "Epoch: 15 Train set: Average loss: 0.0948, Accuracy: 87.158%\n",
            "Epoch: 15 Test set: Average loss: 0.4178, Accuracy: 85.510%\n"
          ],
          "name": "stdout"
        }
      ]
    },
    {
      "cell_type": "code",
      "metadata": {
        "id": "gEAtGfNcNejW",
        "colab_type": "code",
        "colab": {}
      },
      "source": [
        ""
      ],
      "execution_count": 0,
      "outputs": []
    }
  ]
}