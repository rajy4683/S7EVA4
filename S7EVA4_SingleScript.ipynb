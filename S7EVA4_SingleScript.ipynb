{
  "nbformat": 4,
  "nbformat_minor": 0,
  "metadata": {
    "colab": {
      "name": "S7EVA4_SingleScript.ipynb",
      "provenance": [],
      "collapsed_sections": [],
      "authorship_tag": "ABX9TyOQrK8/gxW+Z4MVn74AFVe7",
      "include_colab_link": true
    },
    "kernelspec": {
      "name": "python3",
      "display_name": "Python 3"
    },
    "accelerator": "GPU"
  },
  "cells": [
    {
      "cell_type": "markdown",
      "metadata": {
        "id": "view-in-github",
        "colab_type": "text"
      },
      "source": [
        "<a href=\"https://colab.research.google.com/github/rajy4683/S7EVA4/blob/master/S7EVA4_SingleScript.ipynb\" target=\"_parent\"><img src=\"https://colab.research.google.com/assets/colab-badge.svg\" alt=\"Open In Colab\"/></a>"
      ]
    },
    {
      "cell_type": "code",
      "metadata": {
        "id": "TkeUIDcSJXUE",
        "colab_type": "code",
        "outputId": "bd37d260-cd44-4efb-b101-bab224f0438e",
        "colab": {
          "base_uri": "https://localhost:8080/",
          "height": 34
        }
      },
      "source": [
        "from google.colab import drive\n",
        "drive.mount('/content/drive')\n",
        "import sys"
      ],
      "execution_count": 1,
      "outputs": [
        {
          "output_type": "stream",
          "text": [
            "Drive already mounted at /content/drive; to attempt to forcibly remount, call drive.mount(\"/content/drive\", force_remount=True).\n"
          ],
          "name": "stdout"
        }
      ]
    },
    {
      "cell_type": "markdown",
      "metadata": {
        "id": "gQc6tVsEMKsk",
        "colab_type": "text"
      },
      "source": [
        "\n",
        "### **RekogNizer library contains the following files:**\n",
        "```\n",
        "1. basemodelclass.py:   Contains core model definitions. \n",
        "2. fileutils.py:        Contains utility functions for model_name_generation, plotting functions \n",
        "3. dataloader.py:       Contains dataloaders for both training and test data\n",
        "4. traintest.py:        Contains core training, test and model execution flow routines. \n",
        "5. logger.py:           Contains functions to handle WANDB integration\n",
        "6. hyperparams.py:      Contains values of default hyperparameters alongwith getter and setter functions   \n",
        "7. train_s7_new.py:     Main wrapper script or point of entry. It parses hyperparameters as arguments\n",
        "8. requirements.txt:    Specific libraries that need to be available in the environment\n",
        "```\n",
        "\n",
        "\n",
        "\n",
        "\n",
        "\n",
        "\n"
      ]
    },
    {
      "cell_type": "markdown",
      "metadata": {
        "id": "p5sd4efFT2AF",
        "colab_type": "text"
      },
      "source": [
        "#### Downloading and installing dependencies from the GitHub link:\n"
      ]
    },
    {
      "cell_type": "code",
      "metadata": {
        "id": "-u1pUWK8PGHF",
        "colab_type": "code",
        "colab": {}
      },
      "source": [
        "!git clone https://github.com/rajy4683/RekogNizer.git /content/drive/My\\ Drive/EVA4/RekogNizer"
      ],
      "execution_count": 0,
      "outputs": []
    },
    {
      "cell_type": "code",
      "metadata": {
        "id": "M5CIVlNHJeJI",
        "colab_type": "code",
        "outputId": "11a442b1-d565-4382-801f-03b918930b53",
        "colab": {
          "base_uri": "https://localhost:8080/",
          "height": 642
        }
      },
      "source": [
        "!pip install -r /content/drive/My\\ Drive/EVA4/RekogNizer/requirements.txt"
      ],
      "execution_count": 2,
      "outputs": [
        {
          "output_type": "stream",
          "text": [
            "Requirement already satisfied: pytorch-ignite in /usr/local/lib/python3.6/dist-packages (from -r /content/drive/My Drive/EVA4/RekogNizer/requirements.txt (line 1)) (0.3.0)\n",
            "Requirement already satisfied: torchsummary in /usr/local/lib/python3.6/dist-packages (from -r /content/drive/My Drive/EVA4/RekogNizer/requirements.txt (line 2)) (1.5.1)\n",
            "Requirement already satisfied: wandb in /usr/local/lib/python3.6/dist-packages (from -r /content/drive/My Drive/EVA4/RekogNizer/requirements.txt (line 3)) (0.8.28)\n",
            "Requirement already satisfied: numpy in /usr/local/lib/python3.6/dist-packages (from -r /content/drive/My Drive/EVA4/RekogNizer/requirements.txt (line 5)) (1.17.5)\n",
            "Requirement already satisfied: torch in /usr/local/lib/python3.6/dist-packages (from -r /content/drive/My Drive/EVA4/RekogNizer/requirements.txt (line 6)) (1.4.0)\n",
            "Requirement already satisfied: torchvision in /usr/local/lib/python3.6/dist-packages (from -r /content/drive/My Drive/EVA4/RekogNizer/requirements.txt (line 7)) (0.5.0)\n",
            "Requirement already satisfied: matplotlib in /usr/local/lib/python3.6/dist-packages (from -r /content/drive/My Drive/EVA4/RekogNizer/requirements.txt (line 8)) (3.1.3)\n",
            "Requirement already satisfied: GitPython>=1.0.0 in /usr/local/lib/python3.6/dist-packages (from wandb->-r /content/drive/My Drive/EVA4/RekogNizer/requirements.txt (line 3)) (3.1.0)\n",
            "Requirement already satisfied: watchdog>=0.8.3 in /usr/local/lib/python3.6/dist-packages (from wandb->-r /content/drive/My Drive/EVA4/RekogNizer/requirements.txt (line 3)) (0.10.2)\n",
            "Requirement already satisfied: python-dateutil>=2.6.1 in /usr/local/lib/python3.6/dist-packages (from wandb->-r /content/drive/My Drive/EVA4/RekogNizer/requirements.txt (line 3)) (2.6.1)\n",
            "Requirement already satisfied: requests>=2.0.0 in /usr/local/lib/python3.6/dist-packages (from wandb->-r /content/drive/My Drive/EVA4/RekogNizer/requirements.txt (line 3)) (2.21.0)\n",
            "Requirement already satisfied: PyYAML>=3.10 in /usr/local/lib/python3.6/dist-packages (from wandb->-r /content/drive/My Drive/EVA4/RekogNizer/requirements.txt (line 3)) (3.13)\n",
            "Requirement already satisfied: nvidia-ml-py3>=7.352.0 in /usr/local/lib/python3.6/dist-packages (from wandb->-r /content/drive/My Drive/EVA4/RekogNizer/requirements.txt (line 3)) (7.352.0)\n",
            "Requirement already satisfied: docker-pycreds>=0.4.0 in /usr/local/lib/python3.6/dist-packages (from wandb->-r /content/drive/My Drive/EVA4/RekogNizer/requirements.txt (line 3)) (0.4.0)\n",
            "Requirement already satisfied: configparser>=3.8.1 in /usr/local/lib/python3.6/dist-packages (from wandb->-r /content/drive/My Drive/EVA4/RekogNizer/requirements.txt (line 3)) (4.0.2)\n",
            "Requirement already satisfied: six>=1.10.0 in /usr/local/lib/python3.6/dist-packages (from wandb->-r /content/drive/My Drive/EVA4/RekogNizer/requirements.txt (line 3)) (1.12.0)\n",
            "Requirement already satisfied: gql==0.2.0 in /usr/local/lib/python3.6/dist-packages (from wandb->-r /content/drive/My Drive/EVA4/RekogNizer/requirements.txt (line 3)) (0.2.0)\n",
            "Requirement already satisfied: shortuuid>=0.5.0 in /usr/local/lib/python3.6/dist-packages (from wandb->-r /content/drive/My Drive/EVA4/RekogNizer/requirements.txt (line 3)) (0.5.0)\n",
            "Requirement already satisfied: psutil>=5.0.0 in /usr/local/lib/python3.6/dist-packages (from wandb->-r /content/drive/My Drive/EVA4/RekogNizer/requirements.txt (line 3)) (5.4.8)\n",
            "Requirement already satisfied: Click>=7.0 in /usr/local/lib/python3.6/dist-packages (from wandb->-r /content/drive/My Drive/EVA4/RekogNizer/requirements.txt (line 3)) (7.0)\n",
            "Requirement already satisfied: subprocess32>=3.5.3 in /usr/local/lib/python3.6/dist-packages (from wandb->-r /content/drive/My Drive/EVA4/RekogNizer/requirements.txt (line 3)) (3.5.4)\n",
            "Requirement already satisfied: sentry-sdk>=0.4.0 in /usr/local/lib/python3.6/dist-packages (from wandb->-r /content/drive/My Drive/EVA4/RekogNizer/requirements.txt (line 3)) (0.14.2)\n",
            "Requirement already satisfied: pillow>=4.1.1 in /usr/local/lib/python3.6/dist-packages (from torchvision->-r /content/drive/My Drive/EVA4/RekogNizer/requirements.txt (line 7)) (6.2.2)\n",
            "Requirement already satisfied: kiwisolver>=1.0.1 in /usr/local/lib/python3.6/dist-packages (from matplotlib->-r /content/drive/My Drive/EVA4/RekogNizer/requirements.txt (line 8)) (1.1.0)\n",
            "Requirement already satisfied: cycler>=0.10 in /usr/local/lib/python3.6/dist-packages (from matplotlib->-r /content/drive/My Drive/EVA4/RekogNizer/requirements.txt (line 8)) (0.10.0)\n",
            "Requirement already satisfied: pyparsing!=2.0.4,!=2.1.2,!=2.1.6,>=2.0.1 in /usr/local/lib/python3.6/dist-packages (from matplotlib->-r /content/drive/My Drive/EVA4/RekogNizer/requirements.txt (line 8)) (2.4.6)\n",
            "Requirement already satisfied: gitdb<5,>=4.0.1 in /usr/local/lib/python3.6/dist-packages (from GitPython>=1.0.0->wandb->-r /content/drive/My Drive/EVA4/RekogNizer/requirements.txt (line 3)) (4.0.2)\n",
            "Requirement already satisfied: pathtools>=0.1.1 in /usr/local/lib/python3.6/dist-packages (from watchdog>=0.8.3->wandb->-r /content/drive/My Drive/EVA4/RekogNizer/requirements.txt (line 3)) (0.1.2)\n",
            "Requirement already satisfied: chardet<3.1.0,>=3.0.2 in /usr/local/lib/python3.6/dist-packages (from requests>=2.0.0->wandb->-r /content/drive/My Drive/EVA4/RekogNizer/requirements.txt (line 3)) (3.0.4)\n",
            "Requirement already satisfied: urllib3<1.25,>=1.21.1 in /usr/local/lib/python3.6/dist-packages (from requests>=2.0.0->wandb->-r /content/drive/My Drive/EVA4/RekogNizer/requirements.txt (line 3)) (1.24.3)\n",
            "Requirement already satisfied: certifi>=2017.4.17 in /usr/local/lib/python3.6/dist-packages (from requests>=2.0.0->wandb->-r /content/drive/My Drive/EVA4/RekogNizer/requirements.txt (line 3)) (2019.11.28)\n",
            "Requirement already satisfied: idna<2.9,>=2.5 in /usr/local/lib/python3.6/dist-packages (from requests>=2.0.0->wandb->-r /content/drive/My Drive/EVA4/RekogNizer/requirements.txt (line 3)) (2.8)\n",
            "Requirement already satisfied: graphql-core<2,>=0.5.0 in /usr/local/lib/python3.6/dist-packages (from gql==0.2.0->wandb->-r /content/drive/My Drive/EVA4/RekogNizer/requirements.txt (line 3)) (1.1)\n",
            "Requirement already satisfied: promise<3,>=2.0 in /usr/local/lib/python3.6/dist-packages (from gql==0.2.0->wandb->-r /content/drive/My Drive/EVA4/RekogNizer/requirements.txt (line 3)) (2.3)\n",
            "Requirement already satisfied: setuptools in /usr/local/lib/python3.6/dist-packages (from kiwisolver>=1.0.1->matplotlib->-r /content/drive/My Drive/EVA4/RekogNizer/requirements.txt (line 8)) (45.1.0)\n",
            "Requirement already satisfied: smmap<4,>=3.0.1 in /usr/local/lib/python3.6/dist-packages (from gitdb<5,>=4.0.1->GitPython>=1.0.0->wandb->-r /content/drive/My Drive/EVA4/RekogNizer/requirements.txt (line 3)) (3.0.1)\n"
          ],
          "name": "stdout"
        }
      ]
    },
    {
      "cell_type": "markdown",
      "metadata": {
        "id": "meia7p02UJE8",
        "colab_type": "text"
      },
      "source": [
        "#### WANDB client login"
      ]
    },
    {
      "cell_type": "code",
      "metadata": {
        "id": "Hi9SBc2TKUF3",
        "colab_type": "code",
        "outputId": "489e1827-5c05-4d9c-8089-e547e2f47954",
        "colab": {
          "base_uri": "https://localhost:8080/",
          "height": 50
        }
      },
      "source": [
        "!wandb login a6f947d2d2f69e7a8c8ca0f69811fd554f27d204"
      ],
      "execution_count": 3,
      "outputs": [
        {
          "output_type": "stream",
          "text": [
            "\u001b[34m\u001b[1mwandb\u001b[0m: Appending key for api.wandb.ai to your netrc file: /root/.netrc\n",
            "\u001b[32mSuccessfully logged in to Weights & Biases!\u001b[0m\n"
          ],
          "name": "stdout"
        }
      ]
    },
    {
      "cell_type": "code",
      "metadata": {
        "id": "yFb9EtN4KdDD",
        "colab_type": "code",
        "colab": {}
      },
      "source": [
        "sys.path.append('/content/drive/My Drive/EVA4/')\n",
        "sys.path.append('/content/drive/My Drive/EVA4/RekogNizer')"
      ],
      "execution_count": 0,
      "outputs": []
    },
    {
      "cell_type": "markdown",
      "metadata": {
        "id": "tLJy4ho3L4rj",
        "colab_type": "text"
      },
      "source": [
        "train_s7_new.py currently can take JSON formatted string as input. Following parameters are configurable and are used in the model training and execution.\n",
        "```\n",
        "{\"project\": \"news5\", \n",
        " \"sched_lr_gamma\": 0.5, \n",
        " \"no_cuda\": false, \n",
        " \"dropout\": 0.1, \n",
        " \"test_batch_size\": 128, \n",
        " \"batch_size\": 128, \n",
        " \"epochs\": 45, \n",
        " \"bias\": false, \n",
        " \"lr\": 0.001, \n",
        " \"start_lr\": 0, \n",
        " \"sched_lr_step\": 1, \n",
        " \"weight_decay\": 0.0, \n",
        " \"seed\": 1, \n",
        " \"momentum\": 0.9}\n",
        "\n",
        "```\n",
        "This script will be enhanced to handle the following:\n",
        "\n",
        "\n",
        "1. Inferencing from a saved model\n",
        "2. Loading and retraining the model\n",
        "3. Displaying run results from a saved model.\n",
        "\n"
      ]
    },
    {
      "cell_type": "markdown",
      "metadata": {
        "id": "QkADiDsGUVX4",
        "colab_type": "text"
      },
      "source": [
        "Finally the training run!"
      ]
    },
    {
      "cell_type": "code",
      "metadata": {
        "id": "L2ojuODJKuUf",
        "colab_type": "code",
        "outputId": "be386ac7-286b-48c4-b2be-b15143ba5554",
        "colab": {
          "base_uri": "https://localhost:8080/",
          "height": 1000
        }
      },
      "source": [
        "!python /content/drive/My\\ Drive/EVA4/train_s7_new.py -p '{\"lr\":0.01,\"dropout\":0.13596276898345358, \"momentum\":0.9514506908463995, \"epochs\":30}' "
      ],
      "execution_count": 11,
      "outputs": [
        {
          "output_type": "stream",
          "text": [
            "Files already downloaded and verified\n",
            "Files already downloaded and verified\n",
            "0.001\n",
            "Setting  lr  =  0.01\n",
            "Setting  dropout  =  0.13596276898345358\n",
            "Setting  momentum  =  0.9514506908463995\n",
            "Setting  epochs  =  30\n",
            "Final Hyperparameters\n",
            "             dropout : 0.13596276898345358 \n",
            "          batch_size : 128 \n",
            "     test_batch_size : 128 \n",
            "                  lr : 0.01 \n",
            "            momentum : 0.9514506908463995 \n",
            "             no_cuda : False \n",
            "                seed : 1 \n",
            "              epochs : 30 \n",
            "                bias : False \n",
            "      sched_lr_gamma : 0.5 \n",
            "       sched_lr_step : 1 \n",
            "            start_lr : 0 \n",
            "        weight_decay : 0.0 \n",
            "             project : news5 \n",
            "\u001b[34m\u001b[1mwandb\u001b[0m: Tracking run with wandb version 0.8.28\n",
            "\u001b[34m\u001b[1mwandb\u001b[0m: Run data is saved locally in wandb/run-20200303_105541-08k5ni1e\n",
            "\u001b[34m\u001b[1mwandb\u001b[0m: Syncing run \u001b[33msweet-bee-765\u001b[0m\n",
            "\u001b[34m\u001b[1mwandb\u001b[0m: ⭐️ View project at \u001b[34m\u001b[4mhttps://app.wandb.ai/rajy4683/news5\u001b[0m\n",
            "\u001b[34m\u001b[1mwandb\u001b[0m: 🚀 View run at \u001b[34m\u001b[4mhttps://app.wandb.ai/rajy4683/news5/runs/08k5ni1e\u001b[0m\n",
            "\u001b[34m\u001b[1mwandb\u001b[0m: Run `wandb off` to turn off syncing.\n",
            "\n",
            "Model saved to:  /content/drive/My Drive/EVA4/model_saves/model-2234150fbd.h5\n",
            "Hyper Params:\n",
            "wandb_version: 1\n",
            "\n",
            "_wandb:\n",
            "  desc: null\n",
            "  value:\n",
            "    cli_version: 0.8.28\n",
            "    code_path: code/drive/My Drive/EVA4/train_s7_new.py\n",
            "    framework: torch\n",
            "    is_jupyter_run: false\n",
            "    python_version: 3.6.9\n",
            "batch_size:\n",
            "  desc: null\n",
            "  value: 128\n",
            "bias:\n",
            "  desc: null\n",
            "  value: false\n",
            "dropout:\n",
            "  desc: null\n",
            "  value: 0.13596276898345358\n",
            "epochs:\n",
            "  desc: null\n",
            "  value: 30\n",
            "lr:\n",
            "  desc: null\n",
            "  value: 0.01\n",
            "momentum:\n",
            "  desc: null\n",
            "  value: 0.9514506908463995\n",
            "no_cuda:\n",
            "  desc: null\n",
            "  value: false\n",
            "project:\n",
            "  desc: null\n",
            "  value: news5\n",
            "run_name:\n",
            "  desc: null\n",
            "  value: 2234150fbd\n",
            "sched_lr_gamma:\n",
            "  desc: null\n",
            "  value: 0.5\n",
            "sched_lr_step:\n",
            "  desc: null\n",
            "  value: 1\n",
            "seed:\n",
            "  desc: null\n",
            "  value: 1\n",
            "start_lr:\n",
            "  desc: null\n",
            "  value: 0\n",
            "test_batch_size:\n",
            "  desc: null\n",
            "  value: 128\n",
            "weight_decay:\n",
            "  desc: null\n",
            "  value: 0.0\n",
            "\n",
            "loss=1.4183061122894287 batch_id=390: 100%|███| 391/391 [00:15<00:00, 26.99it/s]\n",
            "\n",
            "Epoch: 1 Train set: Average loss: 0.0116, Accuracy: 45.192%\n",
            "Epoch: 1 Test set: Average loss: 1.2083, Accuracy: 55.990%\n",
            "loss=0.8716562390327454 batch_id=390: 100%|███| 391/391 [00:15<00:00, 25.12it/s]\n",
            "\n",
            "Epoch: 2 Train set: Average loss: 0.0081, Accuracy: 63.012%\n",
            "Epoch: 2 Test set: Average loss: 1.0223, Accuracy: 64.460%\n",
            "loss=0.6953956484794617 batch_id=390: 100%|███| 391/391 [00:15<00:00, 26.59it/s]\n",
            "loss=0.7392716407775879 batch_id=390: 100%|███| 391/391 [00:15<00:00, 26.71it/s]\n",
            "\n",
            "Epoch: 4 Train set: Average loss: 0.0062, Accuracy: 71.828%\n",
            "Epoch: 4 Test set: Average loss: 0.8129, Accuracy: 72.540%\n",
            "loss=0.5915037989616394 batch_id=390: 100%|███| 391/391 [00:15<00:00, 24.50it/s]\n",
            "\n",
            "Epoch: 5 Train set: Average loss: 0.0057, Accuracy: 74.214%\n",
            "Epoch: 5 Test set: Average loss: 0.7053, Accuracy: 75.340%\n",
            "loss=0.6847578287124634 batch_id=390: 100%|███| 391/391 [00:15<00:00, 25.29it/s]\n",
            "\n",
            "Epoch: 6 Train set: Average loss: 0.0054, Accuracy: 75.868%\n",
            "Epoch: 6 Test set: Average loss: 0.6840, Accuracy: 76.810%\n",
            "loss=0.6950348019599915 batch_id=390: 100%|███| 391/391 [00:15<00:00, 26.15it/s]\n",
            "\n",
            "Epoch: 7 Train set: Average loss: 0.0051, Accuracy: 77.184%\n",
            "Epoch: 7 Test set: Average loss: 0.7033, Accuracy: 76.040%\n",
            "loss=0.5817881226539612 batch_id=390: 100%|███| 391/391 [00:15<00:00, 25.14it/s]\n",
            "\n",
            "Epoch: 8 Train set: Average loss: 0.0048, Accuracy: 78.184%\n",
            "Epoch: 8 Test set: Average loss: 0.6581, Accuracy: 77.470%\n",
            "loss=0.5881730914115906 batch_id=390: 100%|███| 391/391 [00:15<00:00, 26.40it/s]\n",
            "\n",
            "Epoch: 9 Train set: Average loss: 0.0046, Accuracy: 79.262%\n",
            "Epoch: 9 Test set: Average loss: 0.5996, Accuracy: 79.710%\n",
            "loss=0.627244770526886 batch_id=390: 100%|████| 391/391 [00:15<00:00, 26.52it/s]\n",
            "\n",
            "Epoch: 10 Train set: Average loss: 0.0044, Accuracy: 80.100%\n",
            "Epoch: 10 Test set: Average loss: 0.6007, Accuracy: 79.490%\n",
            "loss=0.6875464916229248 batch_id=390: 100%|███| 391/391 [00:15<00:00, 26.09it/s]\n",
            "\n",
            "Epoch: 11 Train set: Average loss: 0.0043, Accuracy: 80.750%\n",
            "Epoch: 11 Test set: Average loss: 0.6069, Accuracy: 79.390%\n",
            "loss=0.7057892680168152 batch_id=390: 100%|███| 391/391 [00:15<00:00, 24.88it/s]\n",
            "\n",
            "Epoch: 12 Train set: Average loss: 0.0041, Accuracy: 81.570%\n",
            "Epoch: 12 Test set: Average loss: 0.5760, Accuracy: 80.540%\n",
            "loss=0.584441065788269 batch_id=390: 100%|████| 391/391 [00:15<00:00, 25.18it/s]\n",
            "\n",
            "Epoch: 13 Train set: Average loss: 0.0040, Accuracy: 82.000%\n",
            "Epoch: 13 Test set: Average loss: 0.6164, Accuracy: 79.560%\n",
            "loss=0.4911462366580963 batch_id=390: 100%|███| 391/391 [00:15<00:00, 26.05it/s]\n",
            "\n",
            "Epoch: 14 Train set: Average loss: 0.0038, Accuracy: 82.774%\n",
            "Epoch: 14 Test set: Average loss: 0.5513, Accuracy: 81.990%\n",
            "loss=0.6280139684677124 batch_id=390: 100%|███| 391/391 [00:15<00:00, 25.50it/s]\n",
            "\n",
            "Epoch: 15 Train set: Average loss: 0.0037, Accuracy: 83.038%\n",
            "Epoch: 15 Test set: Average loss: 0.5687, Accuracy: 81.150%\n",
            "loss=0.383447527885437 batch_id=390: 100%|████| 391/391 [00:15<00:00, 27.30it/s]\n",
            "\n",
            "Epoch: 16 Train set: Average loss: 0.0036, Accuracy: 83.478%\n",
            "Epoch: 16 Test set: Average loss: 0.5643, Accuracy: 81.470%\n",
            "loss=0.4147614538669586 batch_id=390: 100%|███| 391/391 [00:15<00:00, 25.85it/s]\n",
            "\n",
            "Epoch: 17 Train set: Average loss: 0.0035, Accuracy: 84.042%\n",
            "Epoch: 17 Test set: Average loss: 0.5544, Accuracy: 81.410%\n",
            "loss=0.5892044305801392 batch_id=390: 100%|███| 391/391 [00:15<00:00, 24.73it/s]\n",
            "\n",
            "Epoch: 18 Train set: Average loss: 0.0034, Accuracy: 84.522%\n",
            "Epoch: 18 Test set: Average loss: 0.5396, Accuracy: 81.370%\n",
            "loss=0.4829614758491516 batch_id=390: 100%|███| 391/391 [00:15<00:00, 26.23it/s]\n",
            "\n",
            "Epoch: 19 Train set: Average loss: 0.0034, Accuracy: 84.832%\n",
            "Epoch: 19 Test set: Average loss: 0.5468, Accuracy: 81.670%\n",
            "loss=0.35859644412994385 batch_id=381:  98%|█▉| 382/391 [00:15<00:00, 24.28it/s]\n",
            "Epoch: 20 Train set: Average loss: 0.0033, Accuracy: 85.288%\n",
            "Epoch: 20 Test set: Average loss: 0.5272, Accuracy: 82.640%\n",
            "loss=0.4919700026512146 batch_id=390: 100%|███| 391/391 [00:15<00:00, 24.72it/s]\n",
            "\n",
            "Epoch: 21 Train set: Average loss: 0.0032, Accuracy: 85.528%\n",
            "Epoch: 21 Test set: Average loss: 0.5413, Accuracy: 81.670%\n",
            "loss=0.4463760256767273 batch_id=390: 100%|███| 391/391 [00:15<00:00, 26.24it/s]\n",
            "\n",
            "Epoch: 22 Train set: Average loss: 0.0032, Accuracy: 85.542%\n",
            "Epoch: 22 Test set: Average loss: 0.5364, Accuracy: 82.080%\n",
            "loss=0.4971989095211029 batch_id=390: 100%|███| 391/391 [00:15<00:00, 26.89it/s]\n",
            "\n",
            "Epoch: 23 Train set: Average loss: 0.0030, Accuracy: 86.056%\n",
            "Epoch: 23 Test set: Average loss: 0.5236, Accuracy: 82.920%\n",
            "loss=0.31757020950317383 batch_id=390: 100%|██| 391/391 [00:15<00:00, 25.92it/s]\n",
            "\n",
            "Epoch: 24 Train set: Average loss: 0.0030, Accuracy: 86.402%\n",
            "Epoch: 24 Test set: Average loss: 0.5107, Accuracy: 82.870%\n",
            "loss=0.3095547556877136 batch_id=390: 100%|███| 391/391 [00:15<00:00, 25.26it/s]\n",
            "\n",
            "Epoch: 25 Train set: Average loss: 0.0030, Accuracy: 86.484%\n",
            "Epoch: 25 Test set: Average loss: 0.5325, Accuracy: 82.940%\n",
            "loss=0.5558186173439026 batch_id=390: 100%|███| 391/391 [00:15<00:00, 25.04it/s]\n",
            "\n",
            "Epoch: 26 Train set: Average loss: 0.0029, Accuracy: 86.920%\n",
            "Epoch: 26 Test set: Average loss: 0.5173, Accuracy: 83.570%\n",
            "loss=0.3219672441482544 batch_id=390: 100%|███| 391/391 [00:15<00:00, 26.27it/s]\n",
            "\n",
            "Epoch: 27 Train set: Average loss: 0.0028, Accuracy: 87.028%\n",
            "Epoch: 27 Test set: Average loss: 0.5208, Accuracy: 83.020%\n",
            "loss=0.4608485698699951 batch_id=390: 100%|███| 391/391 [00:15<00:00, 25.18it/s]\n",
            "\n",
            "Epoch: 28 Train set: Average loss: 0.0028, Accuracy: 87.198%\n",
            "Epoch: 28 Test set: Average loss: 0.5298, Accuracy: 82.940%\n",
            "loss=0.3601848781108856 batch_id=390: 100%|███| 391/391 [00:15<00:00, 25.50it/s]\n",
            "\n",
            "Epoch: 29 Train set: Average loss: 0.0028, Accuracy: 87.272%\n",
            "Epoch: 29 Test set: Average loss: 0.5095, Accuracy: 83.510%\n",
            "loss=0.35868871212005615 batch_id=390: 100%|██| 391/391 [00:15<00:00, 25.49it/s]\n",
            "\n",
            "Epoch: 30 Train set: Average loss: 0.0027, Accuracy: 87.874%\n",
            "Epoch: 30 Test set: Average loss: 0.5253, Accuracy: 83.130%\n",
            "Final model save path: /content/drive/My Drive/EVA4/model_saves/model-2234150fbd.h5\n",
            "sweet-bee-765\n",
            "treasured-wind-764\n",
            "<Figure size 1500x600 with 1 Axes>\n",
            "<Figure size 1500x600 with 1 Axes>\n",
            "Accuracy of plane : 82 %\n",
            "Accuracy of   car : 88 %\n",
            "Accuracy of  bird : 73 %\n",
            "Accuracy of   cat : 66 %\n",
            "Accuracy of  deer : 78 %\n",
            "Accuracy of   dog : 73 %\n",
            "Accuracy of  frog : 88 %\n",
            "Accuracy of horse : 82 %\n",
            "Accuracy of  ship : 91 %\n",
            "Accuracy of truck : 90 %\n",
            "\n",
            "\u001b[34m\u001b[1mwandb\u001b[0m: Waiting for W&B process to finish, PID 1859\n",
            "\u001b[34m\u001b[1mwandb\u001b[0m: Program ended successfully.\n",
            "\u001b[34m\u001b[1mwandb\u001b[0m: Run summary:\n",
            "\u001b[34m\u001b[1mwandb\u001b[0m:                       Train Loss 0.0026806453171372415\n",
            "\u001b[34m\u001b[1mwandb\u001b[0m:                    Test Accuracy 83.13\n",
            "\u001b[34m\u001b[1mwandb\u001b[0m:                         _runtime 525.1628684997559\n",
            "\u001b[34m\u001b[1mwandb\u001b[0m:                       _timestamp 1583233465.9250534\n",
            "\u001b[34m\u001b[1mwandb\u001b[0m:                        Test Loss 0.5253228770256042\n",
            "\u001b[34m\u001b[1mwandb\u001b[0m:                   Train Accuracy 87.874\n",
            "\u001b[34m\u001b[1mwandb\u001b[0m:                    Learning Rate 0.01\n",
            "\u001b[34m\u001b[1mwandb\u001b[0m:                            _step 29\n",
            "\u001b[34m\u001b[1mwandb\u001b[0m: Syncing files in wandb/run-20200303_105541-08k5ni1e:\n",
            "\u001b[34m\u001b[1mwandb\u001b[0m:   code/drive/My Drive/EVA4/train_s7_new.py\n",
            "\u001b[34m\u001b[1mwandb\u001b[0m: plus 7 W&B file(s) and 1 media file(s)\n",
            "\u001b[34m\u001b[1mwandb\u001b[0m:                                                                                \n",
            "\u001b[34m\u001b[1mwandb\u001b[0m: Synced sweet-bee-765: https://app.wandb.ai/rajy4683/news5/runs/08k5ni1e\n"
          ],
          "name": "stdout"
        }
      ]
    },
    {
      "cell_type": "code",
      "metadata": {
        "id": "co-iSigIVfGR",
        "colab_type": "code",
        "colab": {}
      },
      "source": [
        "from RekogNizer import traintest\n",
        "from RekogNizer import logger\n",
        "from RekogNizer import fileutils\n",
        "from RekogNizer import basemodelclass\n",
        "from RekogNizer import dataloader\n",
        "\n",
        "import pandas as pd\n",
        "import numpy as np\n",
        "import torch"
      ],
      "execution_count": 0,
      "outputs": []
    },
    {
      "cell_type": "code",
      "metadata": {
        "id": "YC4AjqUhU3mh",
        "colab_type": "code",
        "colab": {
          "base_uri": "https://localhost:8080/",
          "height": 780
        },
        "outputId": "51c24f80-cc02-4ea1-b237-52be607113a5"
      },
      "source": [
        "\n",
        "\n",
        "runs_df = logger.get_wandb_dataframes_proj(project=\"rajy4683/news5\",count=1)\n",
        "new_df = pd.DataFrame().append(runs_df)\n",
        "\n",
        "\n",
        "fileutils.plot_graphs([new_df],\n",
        "            ['Train Accuracy', 'Test Accuracy'],\n",
        "            columns=['Train Accuracy', 'Test Accuracy'],\n",
        "            xlabel=\"Epochs\",\n",
        "            ylabel=\"Accuracy\")\n",
        "\n",
        "fileutils.plot_graphs([new_df],\n",
        "            ['Train Loss', 'Test Loss'],\n",
        "            columns=['Train Loss', 'Test Loss'],\n",
        "            xlabel=\"Epochs\",\n",
        "            ylabel=\"Loss\")"
      ],
      "execution_count": 13,
      "outputs": [
        {
          "output_type": "stream",
          "text": [
            "sweet-bee-765\n"
          ],
          "name": "stdout"
        },
        {
          "output_type": "display_data",
          "data": {
            "image/png": "[encoded data removed]",
            "text/plain": [
              "<Figure size 1080x432 with 1 Axes>"
            ]
          },
          "metadata": {
            "tags": []
          }
        },
        {
          "output_type": "display_data",
          "data": {
            "image/png": "[encoded data removed]",
            "text/plain": [
              "<Figure size 1080x432 with 1 Axes>"
            ]
          },
          "metadata": {
            "tags": []
          }
        }
      ]
    },
    {
      "cell_type": "code",
      "metadata": {
        "id": "Co8YWVekVDiD",
        "colab_type": "code",
        "colab": {
          "base_uri": "https://localhost:8080/",
          "height": 185
        },
        "outputId": "584b109c-5caf-4311-d891-1e0a1c896b6c"
      },
      "source": [
        "my_model = traintest.model_builder(basemodelclass.CIFARModelDepthDilate, weights_path=\"/content/drive/My Drive/EVA4/model_saves/model-2234150fbd.h5\")\n",
        "class_accuracy_dict = traintest.classwise_accuracy(my_model, dataloader.testloader, dataloader.classes, device=torch.device(\"cpu\"))"
      ],
      "execution_count": 22,
      "outputs": [
        {
          "output_type": "stream",
          "text": [
            "Accuracy of plane : 81 %\n",
            "Accuracy of   car : 88 %\n",
            "Accuracy of  bird : 73 %\n",
            "Accuracy of   cat : 65 %\n",
            "Accuracy of  deer : 79 %\n",
            "Accuracy of   dog : 73 %\n",
            "Accuracy of  frog : 87 %\n",
            "Accuracy of horse : 84 %\n",
            "Accuracy of  ship : 91 %\n",
            "Accuracy of truck : 90 %\n"
          ],
          "name": "stdout"
        }
      ]
    },
    {
      "cell_type": "code",
      "metadata": {
        "id": "lbctloPgVlQ_",
        "colab_type": "code",
        "colab": {
          "base_uri": "https://localhost:8080/",
          "height": 282
        },
        "outputId": "669d5dec-424e-435d-9aed-3844f8786bdc"
      },
      "source": [
        "%matplotlib inline\n",
        "import matplotlib.pyplot as plt\n",
        "\n",
        "plt.bar([key for key in class_accuracy_dict.keys()],[val for val in class_accuracy_dict.values()])"
      ],
      "execution_count": 24,
      "outputs": [
        {
          "output_type": "execute_result",
          "data": {
            "text/plain": [
              "<BarContainer object of 10 artists>"
            ]
          },
          "metadata": {
            "tags": []
          },
          "execution_count": 24
        },
        {
          "output_type": "display_data",
          "data": {
            "image/png": "[encoded data removed]",
            "text/plain": [
              "<Figure size 432x288 with 1 Axes>"
            ]
          },
          "metadata": {
            "tags": []
          }
        }
      ]
    }
  ]
}