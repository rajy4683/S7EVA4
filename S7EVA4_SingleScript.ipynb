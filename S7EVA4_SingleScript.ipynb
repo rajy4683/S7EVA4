{
  "nbformat": 4,
  "nbformat_minor": 0,
  "metadata": {
    "colab": {
      "name": "S7EVA4_SingleScript.ipynb",
      "provenance": [],
      "collapsed_sections": [],
      "include_colab_link": true
    },
    "kernelspec": {
      "name": "python3",
      "display_name": "Python 3"
    },
    "accelerator": "GPU"
  },
  "cells": [
    {
      "cell_type": "markdown",
      "metadata": {
        "id": "view-in-github",
        "colab_type": "text"
      },
      "source": [
        "<a href=\"https://colab.research.google.com/github/rajy4683/S7EVA4/blob/master/S7EVA4_SingleScript.ipynb\" target=\"_parent\"><img src=\"https://colab.research.google.com/assets/colab-badge.svg\" alt=\"Open In Colab\"/></a>"
      ]
    },
    {
      "cell_type": "code",
      "metadata": {
        "id": "TkeUIDcSJXUE",
        "colab_type": "code",
        "outputId": "1c586188-e0da-49dd-ef0e-9dcccfd1d8bd",
        "colab": {
          "base_uri": "https://localhost:8080/",
          "height": 121
        }
      },
      "source": [
        "from google.colab import drive\n",
        "drive.mount('/content/drive')\n",
        "import sys"
      ],
      "execution_count": 1,
      "outputs": [
        {
          "output_type": "stream",
          "text": [
            "Go to this URL in a browser: https://accounts.google.com/o/oauth2/auth?client_id=947318989803-6bn6qk8qdgf4n4g3pfee6491hc0brc4i.apps.googleusercontent.com&redirect_uri=urn%3aietf%3awg%3aoauth%3a2.0%3aoob&response_type=code&scope=email%20https%3a%2f%2fwww.googleapis.com%2fauth%2fdocs.test%20https%3a%2f%2fwww.googleapis.com%2fauth%2fdrive%20https%3a%2f%2fwww.googleapis.com%2fauth%2fdrive.photos.readonly%20https%3a%2f%2fwww.googleapis.com%2fauth%2fpeopleapi.readonly\n",
            "\n",
            "Enter your authorization code:\n",
            "··········\n",
            "Mounted at /content/drive\n"
          ],
          "name": "stdout"
        }
      ]
    },
    {
      "cell_type": "markdown",
      "metadata": {
        "id": "gQc6tVsEMKsk",
        "colab_type": "text"
      },
      "source": [
        "\n",
        "### **[RekogNizer library](https://github.com/rajy4683/RekogNizer.git) contains the following files:**\n",
        "```\n",
        "1. basemodelclass.py:   Contains core model definitions. \n",
        "2. fileutils.py:        Contains utility functions for model_name_generation, plotting functions \n",
        "3. dataloader.py:       Contains dataloaders for both training and test data\n",
        "4. traintest.py:        Contains core training, test and model execution flow routines. \n",
        "5. logger.py:           Contains functions to handle WANDB integration\n",
        "6. hyperparams.py:      Contains values of default hyperparameters alongwith getter and setter functions   \n",
        "7. train_s7_new.py:     Main wrapper script or point of entry. It parses hyperparameters as arguments\n",
        "8. requirements.txt:    Specific libraries that need to be available in the environment\n",
        "```\n",
        "\n",
        "\n",
        "\n",
        "\n",
        "\n",
        "\n"
      ]
    },
    {
      "cell_type": "markdown",
      "metadata": {
        "id": "p5sd4efFT2AF",
        "colab_type": "text"
      },
      "source": [
        "#### Downloading and installing dependencies from the GitHub link:\n"
      ]
    },
    {
      "cell_type": "code",
      "metadata": {
        "id": "-u1pUWK8PGHF",
        "colab_type": "code",
        "colab": {}
      },
      "source": [
        "!git clone https://github.com/rajy4683/RekogNizer.git /content/drive/My\\ Drive/EVA4/RekogNizer"
      ],
      "execution_count": 0,
      "outputs": []
    },
    {
      "cell_type": "code",
      "metadata": {
        "id": "M5CIVlNHJeJI",
        "colab_type": "code",
        "outputId": "210998f5-5d80-4986-b6c7-22bf5c1f1975",
        "colab": {
          "base_uri": "https://localhost:8080/",
          "height": 1000
        }
      },
      "source": [
        "!pip install -r /content/drive/My\\ Drive/EVA4/RekogNizer/requirements.txt"
      ],
      "execution_count": 3,
      "outputs": [
        {
          "output_type": "stream",
          "text": [
            "Collecting pytorch-ignite\n",
            "\u001b[?25l  Downloading https://files.pythonhosted.org/packages/35/55/41e8a995876fd2ade29bdba0c3efefa38e7d605cb353c70f3173c04928b5/pytorch_ignite-0.3.0-py2.py3-none-any.whl (103kB)\n",
            "\r\u001b[K     |███▏                            | 10kB 25.7MB/s eta 0:00:01\r\u001b[K     |██████▎                         | 20kB 2.9MB/s eta 0:00:01\r\u001b[K     |█████████▌                      | 30kB 4.2MB/s eta 0:00:01\r\u001b[K     |████████████▋                   | 40kB 2.9MB/s eta 0:00:01\r\u001b[K     |███████████████▉                | 51kB 3.6MB/s eta 0:00:01\r\u001b[K     |███████████████████             | 61kB 4.3MB/s eta 0:00:01\r\u001b[K     |██████████████████████▏         | 71kB 5.0MB/s eta 0:00:01\r\u001b[K     |█████████████████████████▎      | 81kB 5.6MB/s eta 0:00:01\r\u001b[K     |████████████████████████████▍   | 92kB 6.2MB/s eta 0:00:01\r\u001b[K     |███████████████████████████████▋| 102kB 4.9MB/s eta 0:00:01\r\u001b[K     |████████████████████████████████| 112kB 4.9MB/s \n",
            "\u001b[?25hRequirement already satisfied: torchsummary in /usr/local/lib/python3.6/dist-packages (from -r /content/drive/My Drive/EVA4/RekogNizer/requirements.txt (line 2)) (1.5.1)\n",
            "Collecting wandb\n",
            "\u001b[?25l  Downloading https://files.pythonhosted.org/packages/04/58/694b8a7cd58a9d58d4122fafc5469e57ce7e27ac371926c2efdae67ecc04/wandb-0.8.28-py2.py3-none-any.whl (1.4MB)\n",
            "\u001b[K     |████████████████████████████████| 1.4MB 15.0MB/s \n",
            "\u001b[?25hRequirement already satisfied: numpy in /usr/local/lib/python3.6/dist-packages (from -r /content/drive/My Drive/EVA4/RekogNizer/requirements.txt (line 5)) (1.17.5)\n",
            "Requirement already satisfied: torch in /usr/local/lib/python3.6/dist-packages (from -r /content/drive/My Drive/EVA4/RekogNizer/requirements.txt (line 6)) (1.4.0)\n",
            "Requirement already satisfied: torchvision in /usr/local/lib/python3.6/dist-packages (from -r /content/drive/My Drive/EVA4/RekogNizer/requirements.txt (line 7)) (0.5.0)\n",
            "Requirement already satisfied: matplotlib in /usr/local/lib/python3.6/dist-packages (from -r /content/drive/My Drive/EVA4/RekogNizer/requirements.txt (line 8)) (3.1.3)\n",
            "Collecting watchdog>=0.8.3\n",
            "\u001b[?25l  Downloading https://files.pythonhosted.org/packages/73/c3/ed6d992006837e011baca89476a4bbffb0a91602432f73bd4473816c76e2/watchdog-0.10.2.tar.gz (95kB)\n",
            "\u001b[K     |████████████████████████████████| 102kB 13.1MB/s \n",
            "\u001b[?25hRequirement already satisfied: nvidia-ml-py3>=7.352.0 in /usr/local/lib/python3.6/dist-packages (from wandb->-r /content/drive/My Drive/EVA4/RekogNizer/requirements.txt (line 3)) (7.352.0)\n",
            "Collecting gql==0.2.0\n",
            "  Downloading https://files.pythonhosted.org/packages/c4/6f/cf9a3056045518f06184e804bae89390eb706168349daa9dff8ac609962a/gql-0.2.0.tar.gz\n",
            "Requirement already satisfied: Click>=7.0 in /usr/local/lib/python3.6/dist-packages (from wandb->-r /content/drive/My Drive/EVA4/RekogNizer/requirements.txt (line 3)) (7.0)\n",
            "Collecting configparser>=3.8.1\n",
            "  Downloading https://files.pythonhosted.org/packages/7a/2a/95ed0501cf5d8709490b1d3a3f9b5cf340da6c433f896bbe9ce08dbe6785/configparser-4.0.2-py2.py3-none-any.whl\n",
            "Requirement already satisfied: PyYAML>=3.10 in /usr/local/lib/python3.6/dist-packages (from wandb->-r /content/drive/My Drive/EVA4/RekogNizer/requirements.txt (line 3)) (3.13)\n",
            "Collecting subprocess32>=3.5.3\n",
            "\u001b[?25l  Downloading https://files.pythonhosted.org/packages/32/c8/564be4d12629b912ea431f1a50eb8b3b9d00f1a0b1ceff17f266be190007/subprocess32-3.5.4.tar.gz (97kB)\n",
            "\u001b[K     |████████████████████████████████| 102kB 15.9MB/s \n",
            "\u001b[?25hRequirement already satisfied: python-dateutil>=2.6.1 in /usr/local/lib/python3.6/dist-packages (from wandb->-r /content/drive/My Drive/EVA4/RekogNizer/requirements.txt (line 3)) (2.6.1)\n",
            "Collecting shortuuid>=0.5.0\n",
            "  Downloading https://files.pythonhosted.org/packages/80/d7/2bfc9332e68d3e15ea97b9b1588b3899ad565120253d3fd71c8f7f13b4fe/shortuuid-0.5.0.tar.gz\n",
            "Requirement already satisfied: requests>=2.0.0 in /usr/local/lib/python3.6/dist-packages (from wandb->-r /content/drive/My Drive/EVA4/RekogNizer/requirements.txt (line 3)) (2.21.0)\n",
            "Collecting sentry-sdk>=0.4.0\n",
            "\u001b[?25l  Downloading https://files.pythonhosted.org/packages/8e/e6/058c2dc4723b3647a8cf61385c61f284bfbd0d0657bc5623c22e9ef45a3c/sentry_sdk-0.14.2-py2.py3-none-any.whl (96kB)\n",
            "\u001b[K     |████████████████████████████████| 102kB 15.0MB/s \n",
            "\u001b[?25hCollecting docker-pycreds>=0.4.0\n",
            "  Downloading https://files.pythonhosted.org/packages/f5/e8/f6bd1eee09314e7e6dee49cbe2c5e22314ccdb38db16c9fc72d2fa80d054/docker_pycreds-0.4.0-py2.py3-none-any.whl\n",
            "Requirement already satisfied: psutil>=5.0.0 in /usr/local/lib/python3.6/dist-packages (from wandb->-r /content/drive/My Drive/EVA4/RekogNizer/requirements.txt (line 3)) (5.4.8)\n",
            "Collecting GitPython>=1.0.0\n",
            "\u001b[?25l  Downloading https://files.pythonhosted.org/packages/d3/2f/6a366d56c9b1355b0880be9ea66b166cb3536392638d8d91413ec66305ad/GitPython-3.1.0-py3-none-any.whl (450kB)\n",
            "\u001b[K     |████████████████████████████████| 460kB 68.1MB/s \n",
            "\u001b[?25hRequirement already satisfied: six>=1.10.0 in /usr/local/lib/python3.6/dist-packages (from wandb->-r /content/drive/My Drive/EVA4/RekogNizer/requirements.txt (line 3)) (1.12.0)\n",
            "Requirement already satisfied: pillow>=4.1.1 in /usr/local/lib/python3.6/dist-packages (from torchvision->-r /content/drive/My Drive/EVA4/RekogNizer/requirements.txt (line 7)) (6.2.2)\n",
            "Requirement already satisfied: pyparsing!=2.0.4,!=2.1.2,!=2.1.6,>=2.0.1 in /usr/local/lib/python3.6/dist-packages (from matplotlib->-r /content/drive/My Drive/EVA4/RekogNizer/requirements.txt (line 8)) (2.4.6)\n",
            "Requirement already satisfied: kiwisolver>=1.0.1 in /usr/local/lib/python3.6/dist-packages (from matplotlib->-r /content/drive/My Drive/EVA4/RekogNizer/requirements.txt (line 8)) (1.1.0)\n",
            "Requirement already satisfied: cycler>=0.10 in /usr/local/lib/python3.6/dist-packages (from matplotlib->-r /content/drive/My Drive/EVA4/RekogNizer/requirements.txt (line 8)) (0.10.0)\n",
            "Collecting pathtools>=0.1.1\n",
            "  Downloading https://files.pythonhosted.org/packages/e7/7f/470d6fcdf23f9f3518f6b0b76be9df16dcc8630ad409947f8be2eb0ed13a/pathtools-0.1.2.tar.gz\n",
            "Collecting graphql-core<2,>=0.5.0\n",
            "\u001b[?25l  Downloading https://files.pythonhosted.org/packages/b0/89/00ad5e07524d8c523b14d70c685e0299a8b0de6d0727e368c41b89b7ed0b/graphql-core-1.1.tar.gz (70kB)\n",
            "\u001b[K     |████████████████████████████████| 71kB 12.4MB/s \n",
            "\u001b[?25hRequirement already satisfied: promise<3,>=2.0 in /usr/local/lib/python3.6/dist-packages (from gql==0.2.0->wandb->-r /content/drive/My Drive/EVA4/RekogNizer/requirements.txt (line 3)) (2.3)\n",
            "Requirement already satisfied: urllib3<1.25,>=1.21.1 in /usr/local/lib/python3.6/dist-packages (from requests>=2.0.0->wandb->-r /content/drive/My Drive/EVA4/RekogNizer/requirements.txt (line 3)) (1.24.3)\n",
            "Requirement already satisfied: chardet<3.1.0,>=3.0.2 in /usr/local/lib/python3.6/dist-packages (from requests>=2.0.0->wandb->-r /content/drive/My Drive/EVA4/RekogNizer/requirements.txt (line 3)) (3.0.4)\n",
            "Requirement already satisfied: certifi>=2017.4.17 in /usr/local/lib/python3.6/dist-packages (from requests>=2.0.0->wandb->-r /content/drive/My Drive/EVA4/RekogNizer/requirements.txt (line 3)) (2019.11.28)\n",
            "Requirement already satisfied: idna<2.9,>=2.5 in /usr/local/lib/python3.6/dist-packages (from requests>=2.0.0->wandb->-r /content/drive/My Drive/EVA4/RekogNizer/requirements.txt (line 3)) (2.8)\n",
            "Collecting gitdb<5,>=4.0.1\n",
            "\u001b[?25l  Downloading https://files.pythonhosted.org/packages/1e/f5/8f84b3bf9d94bdf2454a302f2fa375832b53660ea532586b8a55ff16ae9a/gitdb-4.0.2-py3-none-any.whl (63kB)\n",
            "\u001b[K     |████████████████████████████████| 71kB 12.2MB/s \n",
            "\u001b[?25hRequirement already satisfied: setuptools in /usr/local/lib/python3.6/dist-packages (from kiwisolver>=1.0.1->matplotlib->-r /content/drive/My Drive/EVA4/RekogNizer/requirements.txt (line 8)) (45.1.0)\n",
            "Collecting smmap<4,>=3.0.1\n",
            "  Downloading https://files.pythonhosted.org/packages/35/d2/27777ab463cd44842c78305fa8097dfba0d94768abbb7e1c4d88f1fa1a0b/smmap-3.0.1-py2.py3-none-any.whl\n",
            "Building wheels for collected packages: watchdog, gql, subprocess32, shortuuid, pathtools, graphql-core\n",
            "  Building wheel for watchdog (setup.py) ... \u001b[?25l\u001b[?25hdone\n",
            "  Created wheel for watchdog: filename=watchdog-0.10.2-cp36-none-any.whl size=73605 sha256=5b76fcebe6f80890cf907f1f9f5632e8bf77c7d1fd08345a9a1571c44ca22837\n",
            "  Stored in directory: /root/.cache/pip/wheels/bc/ed/6c/028dea90d31b359cd2a7c8b0da4db80e41d24a59614154072e\n",
            "  Building wheel for gql (setup.py) ... \u001b[?25l\u001b[?25hdone\n",
            "  Created wheel for gql: filename=gql-0.2.0-cp36-none-any.whl size=7630 sha256=a58c7d275b9caf52325178f9ede8d8748047c002630ee7a9382b23fd62fb6a80\n",
            "  Stored in directory: /root/.cache/pip/wheels/ce/0e/7b/58a8a5268655b3ad74feef5aa97946f0addafb3cbb6bd2da23\n",
            "  Building wheel for subprocess32 (setup.py) ... \u001b[?25l\u001b[?25hdone\n",
            "  Created wheel for subprocess32: filename=subprocess32-3.5.4-cp36-none-any.whl size=6489 sha256=f98afa41e870baf129e973c37816351ad20c4e92290ab763d43e65c84361dfb9\n",
            "  Stored in directory: /root/.cache/pip/wheels/68/39/1a/5e402bdfdf004af1786c8b853fd92f8c4a04f22aad179654d1\n",
            "  Building wheel for shortuuid (setup.py) ... \u001b[?25l\u001b[?25hdone\n",
            "  Created wheel for shortuuid: filename=shortuuid-0.5.0-cp36-none-any.whl size=5497 sha256=1865ddfc2f1d14c81ae7a041730646e2c95ced3fff79b9fa0124b530b7d8c86e\n",
            "  Stored in directory: /root/.cache/pip/wheels/3f/eb/fd/69e5177f67b505e44acbd1aedfbe44b91768ee0c4cd5636576\n",
            "  Building wheel for pathtools (setup.py) ... \u001b[?25l\u001b[?25hdone\n",
            "  Created wheel for pathtools: filename=pathtools-0.1.2-cp36-none-any.whl size=8784 sha256=be820ed257f014f808a1e8ef6e261a27db5c14b8ca54447d4433ca1ca19fda3f\n",
            "  Stored in directory: /root/.cache/pip/wheels/0b/04/79/c3b0c3a0266a3cb4376da31e5bfe8bba0c489246968a68e843\n",
            "  Building wheel for graphql-core (setup.py) ... \u001b[?25l\u001b[?25hdone\n",
            "  Created wheel for graphql-core: filename=graphql_core-1.1-cp36-none-any.whl size=104650 sha256=dc74d51a63dbc6a4064aaa8ef9b644c2d8f2ed4e845378dc799caa19e612837e\n",
            "  Stored in directory: /root/.cache/pip/wheels/45/99/d7/c424029bb0fe910c63b68dbf2aa20d3283d023042521bcd7d5\n",
            "Successfully built watchdog gql subprocess32 shortuuid pathtools graphql-core\n",
            "Installing collected packages: pytorch-ignite, pathtools, watchdog, graphql-core, gql, configparser, subprocess32, shortuuid, sentry-sdk, docker-pycreds, smmap, gitdb, GitPython, wandb\n",
            "Successfully installed GitPython-3.1.0 configparser-4.0.2 docker-pycreds-0.4.0 gitdb-4.0.2 gql-0.2.0 graphql-core-1.1 pathtools-0.1.2 pytorch-ignite-0.3.0 sentry-sdk-0.14.2 shortuuid-0.5.0 smmap-3.0.1 subprocess32-3.5.4 wandb-0.8.28 watchdog-0.10.2\n"
          ],
          "name": "stdout"
        }
      ]
    },
    {
      "cell_type": "markdown",
      "metadata": {
        "id": "meia7p02UJE8",
        "colab_type": "text"
      },
      "source": [
        "#### WANDB client login"
      ]
    },
    {
      "cell_type": "code",
      "metadata": {
        "id": "Hi9SBc2TKUF3",
        "colab_type": "code",
        "outputId": "077dd094-4b65-496b-a9b6-fa83ba9d0baf",
        "colab": {
          "base_uri": "https://localhost:8080/",
          "height": 50
        }
      },
      "source": [
        "!wandb login a6f947d2d2f69e7a8c8ca0f69811fd554f27d204"
      ],
      "execution_count": 4,
      "outputs": [
        {
          "output_type": "stream",
          "text": [
            "\u001b[34m\u001b[1mwandb\u001b[0m: Appending key for api.wandb.ai to your netrc file: /root/.netrc\n",
            "\u001b[32mSuccessfully logged in to Weights & Biases!\u001b[0m\n"
          ],
          "name": "stdout"
        }
      ]
    },
    {
      "cell_type": "code",
      "metadata": {
        "id": "yFb9EtN4KdDD",
        "colab_type": "code",
        "colab": {}
      },
      "source": [
        "sys.path.append('/content/drive/My Drive/EVA4/')\n",
        "sys.path.append('/content/drive/My Drive/EVA4/RekogNizer')"
      ],
      "execution_count": 0,
      "outputs": []
    },
    {
      "cell_type": "markdown",
      "metadata": {
        "id": "tLJy4ho3L4rj",
        "colab_type": "text"
      },
      "source": [
        "train_s7_new.py currently can take JSON formatted string as input. Following parameters are configurable and are used in the model training and execution.\n",
        "```\n",
        "{\"project\": \"news5\", \n",
        " \"sched_lr_gamma\": 0.5, \n",
        " \"no_cuda\": false, \n",
        " \"dropout\": 0.1, \n",
        " \"test_batch_size\": 128, \n",
        " \"batch_size\": 128, \n",
        " \"epochs\": 45, \n",
        " \"bias\": false, \n",
        " \"lr\": 0.001, \n",
        " \"start_lr\": 0, \n",
        " \"sched_lr_step\": 1, \n",
        " \"weight_decay\": 0.0, \n",
        " \"seed\": 1, \n",
        " \"momentum\": 0.9}\n",
        "\n",
        "```\n",
        "This script will be enhanced to handle the following:\n",
        "\n",
        "\n",
        "1. Inferencing from a saved model\n",
        "2. Loading and retraining the model\n",
        "3. Displaying run results from a saved model.\n",
        "4. Samples of train/test loader data\n",
        "\n",
        "All the above functions are implemented already as APIs in the RekogNizer library.\n"
      ]
    },
    {
      "cell_type": "markdown",
      "metadata": {
        "id": "QkADiDsGUVX4",
        "colab_type": "text"
      },
      "source": [
        "Finally the training run!"
      ]
    },
    {
      "cell_type": "code",
      "metadata": {
        "id": "L2ojuODJKuUf",
        "colab_type": "code",
        "outputId": "47d3f9c9-db84-4077-d1a1-9cfc2234a6d6",
        "colab": {
          "base_uri": "https://localhost:8080/",
          "height": 1000
        }
      },
      "source": [
        "!python /content/drive/My\\ Drive/EVA4/train_s7_new.py -p '{\"lr\":0.01,\"dropout\":0.13596276898345358, \"momentum\":0.9514506908463995, \"epochs\":30}' "
      ],
      "execution_count": 6,
      "outputs": [
        {
          "output_type": "stream",
          "text": [
            "Downloading https://www.cs.toronto.edu/~kriz/cifar-10-python.tar.gz to ./data/cifar-10-python.tar.gz\n",
            "170500096it [00:03, 42743216.63it/s]                   \n",
            "Extracting ./data/cifar-10-python.tar.gz to ./data\n",
            "Files already downloaded and verified\n",
            "0.001\n",
            "Setting  lr  =  0.01\n",
            "Setting  dropout  =  0.13596276898345358\n",
            "Setting  momentum  =  0.9514506908463995\n",
            "Setting  epochs  =  30\n",
            "Final Hyperparameters\n",
            "             dropout : 0.13596276898345358 \n",
            "          batch_size : 128 \n",
            "     test_batch_size : 128 \n",
            "                  lr : 0.01 \n",
            "            momentum : 0.9514506908463995 \n",
            "             no_cuda : False \n",
            "                seed : 1 \n",
            "              epochs : 30 \n",
            "                bias : False \n",
            "      sched_lr_gamma : 0.5 \n",
            "       sched_lr_step : 1 \n",
            "            start_lr : 0 \n",
            "        weight_decay : 0.0 \n",
            "             project : news5 \n",
            "\u001b[34m\u001b[1mwandb\u001b[0m: Tracking run with wandb version 0.8.28\n",
            "\u001b[34m\u001b[1mwandb\u001b[0m: Run data is saved locally in wandb/run-20200303_180825-0yiy1pme\n",
            "\u001b[34m\u001b[1mwandb\u001b[0m: Syncing run \u001b[33mcrisp-serenity-766\u001b[0m\n",
            "\u001b[34m\u001b[1mwandb\u001b[0m: ⭐️ View project at \u001b[34m\u001b[4mhttps://app.wandb.ai/rajy4683/news5\u001b[0m\n",
            "\u001b[34m\u001b[1mwandb\u001b[0m: 🚀 View run at \u001b[34m\u001b[4mhttps://app.wandb.ai/rajy4683/news5/runs/0yiy1pme\u001b[0m\n",
            "\u001b[34m\u001b[1mwandb\u001b[0m: Run `wandb off` to turn off syncing.\n",
            "\n",
            "Model saved to:  /content/drive/My Drive/EVA4/model_saves/model-20f5076a80.h5\n",
            "Hyper Params:\n",
            "wandb_version: 1\n",
            "\n",
            "_wandb:\n",
            "  desc: null\n",
            "  value:\n",
            "    cli_version: 0.8.28\n",
            "    code_path: code/drive/My Drive/EVA4/train_s7_new.py\n",
            "    framework: torch\n",
            "    is_jupyter_run: false\n",
            "    python_version: 3.6.9\n",
            "batch_size:\n",
            "  desc: null\n",
            "  value: 128\n",
            "bias:\n",
            "  desc: null\n",
            "  value: false\n",
            "dropout:\n",
            "  desc: null\n",
            "  value: 0.13596276898345358\n",
            "epochs:\n",
            "  desc: null\n",
            "  value: 30\n",
            "lr:\n",
            "  desc: null\n",
            "  value: 0.01\n",
            "momentum:\n",
            "  desc: null\n",
            "  value: 0.9514506908463995\n",
            "no_cuda:\n",
            "  desc: null\n",
            "  value: false\n",
            "project:\n",
            "  desc: null\n",
            "  value: news5\n",
            "run_name:\n",
            "  desc: null\n",
            "  value: 20f5076a80\n",
            "sched_lr_gamma:\n",
            "  desc: null\n",
            "  value: 0.5\n",
            "sched_lr_step:\n",
            "  desc: null\n",
            "  value: 1\n",
            "seed:\n",
            "  desc: null\n",
            "  value: 1\n",
            "start_lr:\n",
            "  desc: null\n",
            "  value: 0\n",
            "test_batch_size:\n",
            "  desc: null\n",
            "  value: 128\n",
            "weight_decay:\n",
            "  desc: null\n",
            "  value: 0.0\n",
            "\n",
            "loss=1.3015382289886475 batch_id=390: 100%|███| 391/391 [00:15<00:00, 26.95it/s]\n",
            "\n",
            "Epoch: 1 Train set: Average loss: 0.0119, Accuracy: 43.298%\n",
            "Epoch: 1 Test set: Average loss: 1.5220, Accuracy: 47.950%\n",
            "loss=1.0470826625823975 batch_id=390: 100%|███| 391/391 [00:15<00:00, 25.39it/s]\n",
            "\n",
            "Epoch: 2 Train set: Average loss: 0.0082, Accuracy: 61.866%\n",
            "Epoch: 2 Test set: Average loss: 1.1906, Accuracy: 57.760%\n",
            "loss=0.8414732217788696 batch_id=390: 100%|███| 391/391 [00:15<00:00, 26.93it/s]\n",
            "\n",
            "Epoch: 3 Train set: Average loss: 0.0069, Accuracy: 68.522%\n",
            "Epoch: 3 Test set: Average loss: 0.8972, Accuracy: 69.080%\n",
            "loss=0.7482773661613464 batch_id=390: 100%|███| 391/391 [00:15<00:00, 26.19it/s]\n",
            "\n",
            "Epoch: 4 Train set: Average loss: 0.0062, Accuracy: 71.980%\n",
            "Epoch: 4 Test set: Average loss: 0.8590, Accuracy: 70.590%\n",
            "loss=0.7049499154090881 batch_id=390: 100%|███| 391/391 [00:15<00:00, 26.40it/s]\n",
            "\n",
            "Epoch: 5 Train set: Average loss: 0.0057, Accuracy: 74.150%\n",
            "Epoch: 5 Test set: Average loss: 0.7082, Accuracy: 74.910%\n",
            "loss=0.6738826036453247 batch_id=390: 100%|███| 391/391 [00:16<00:00, 26.30it/s]\n",
            "\n",
            "Epoch: 6 Train set: Average loss: 0.0053, Accuracy: 76.038%\n",
            "Epoch: 6 Test set: Average loss: 0.6945, Accuracy: 76.160%\n",
            "loss=0.6596205234527588 batch_id=390: 100%|███| 391/391 [00:15<00:00, 26.13it/s]\n",
            "\n",
            "Epoch: 7 Train set: Average loss: 0.0050, Accuracy: 77.528%\n",
            "Epoch: 7 Test set: Average loss: 0.7101, Accuracy: 75.100%\n",
            "loss=0.6446264386177063 batch_id=390: 100%|███| 391/391 [00:16<00:00, 25.98it/s]\n",
            "\n",
            "Epoch: 8 Train set: Average loss: 0.0048, Accuracy: 78.474%\n",
            "Epoch: 8 Test set: Average loss: 0.6396, Accuracy: 77.600%\n",
            "loss=0.6518081426620483 batch_id=390: 100%|███| 391/391 [00:15<00:00, 25.95it/s]\n",
            "\n",
            "Epoch: 9 Train set: Average loss: 0.0046, Accuracy: 79.376%\n",
            "Epoch: 9 Test set: Average loss: 0.6340, Accuracy: 78.530%\n",
            "loss=0.6125999689102173 batch_id=390: 100%|███| 391/391 [00:16<00:00, 25.94it/s]\n",
            "\n",
            "Epoch: 10 Train set: Average loss: 0.0044, Accuracy: 80.500%\n",
            "Epoch: 10 Test set: Average loss: 0.6419, Accuracy: 78.370%\n",
            "loss=0.5324872732162476 batch_id=390: 100%|███| 391/391 [00:15<00:00, 25.96it/s]\n",
            "\n",
            "Epoch: 11 Train set: Average loss: 0.0042, Accuracy: 80.908%\n",
            "Epoch: 11 Test set: Average loss: 0.5978, Accuracy: 79.130%\n",
            "loss=0.6279237270355225 batch_id=390: 100%|███| 391/391 [00:15<00:00, 26.14it/s]\n",
            "\n",
            "Epoch: 12 Train set: Average loss: 0.0040, Accuracy: 81.840%\n",
            "Epoch: 12 Test set: Average loss: 0.5621, Accuracy: 80.770%\n",
            "loss=0.6877273321151733 batch_id=390: 100%|███| 391/391 [00:16<00:00, 25.36it/s]\n",
            "\n",
            "Epoch: 13 Train set: Average loss: 0.0039, Accuracy: 82.284%\n",
            "Epoch: 13 Test set: Average loss: 0.6143, Accuracy: 79.330%\n",
            "loss=0.5786064267158508 batch_id=390: 100%|███| 391/391 [00:15<00:00, 25.53it/s]\n",
            "\n",
            "Epoch: 14 Train set: Average loss: 0.0038, Accuracy: 83.030%\n",
            "Epoch: 14 Test set: Average loss: 0.5764, Accuracy: 80.810%\n",
            "loss=0.5721856951713562 batch_id=390: 100%|███| 391/391 [00:15<00:00, 26.11it/s]\n",
            "\n",
            "Epoch: 15 Train set: Average loss: 0.0037, Accuracy: 83.230%\n",
            "Epoch: 15 Test set: Average loss: 0.5508, Accuracy: 81.550%\n",
            "loss=0.35057568550109863 batch_id=390: 100%|██| 391/391 [00:15<00:00, 26.54it/s]\n",
            "\n",
            "Epoch: 16 Train set: Average loss: 0.0035, Accuracy: 83.808%\n",
            "Epoch: 16 Test set: Average loss: 0.5611, Accuracy: 81.140%\n",
            "loss=0.5088722705841064 batch_id=390: 100%|███| 391/391 [00:15<00:00, 26.66it/s]\n",
            "\n",
            "Epoch: 17 Train set: Average loss: 0.0034, Accuracy: 84.530%\n",
            "Epoch: 17 Test set: Average loss: 0.5295, Accuracy: 81.860%\n",
            "loss=0.5409104228019714 batch_id=390: 100%|███| 391/391 [00:15<00:00, 26.23it/s]\n",
            "\n",
            "Epoch: 18 Train set: Average loss: 0.0034, Accuracy: 84.710%\n",
            "Epoch: 18 Test set: Average loss: 0.5440, Accuracy: 82.210%\n",
            "loss=0.5429660081863403 batch_id=390: 100%|███| 391/391 [00:15<00:00, 23.97it/s]\n",
            "\n",
            "Epoch: 19 Train set: Average loss: 0.0033, Accuracy: 85.262%\n",
            "Epoch: 19 Test set: Average loss: 0.5111, Accuracy: 82.680%\n",
            "loss=0.2746667265892029 batch_id=390: 100%|███| 391/391 [00:15<00:00, 26.30it/s]\n",
            "\n",
            "Epoch: 20 Train set: Average loss: 0.0032, Accuracy: 85.342%\n",
            "Epoch: 20 Test set: Average loss: 0.5168, Accuracy: 82.670%\n",
            "loss=0.3918209373950958 batch_id=390: 100%|███| 391/391 [00:15<00:00, 26.86it/s]\n",
            "\n",
            "Epoch: 21 Train set: Average loss: 0.0032, Accuracy: 85.604%\n",
            "Epoch: 21 Test set: Average loss: 0.5300, Accuracy: 82.220%\n",
            "loss=0.29825669527053833 batch_id=390: 100%|██| 391/391 [00:15<00:00, 26.18it/s]\n",
            "\n",
            "Epoch: 22 Train set: Average loss: 0.0030, Accuracy: 86.338%\n",
            "Epoch: 22 Test set: Average loss: 0.5370, Accuracy: 82.060%\n",
            "loss=0.35040801763534546 batch_id=390: 100%|██| 391/391 [00:15<00:00, 26.54it/s]\n",
            "\n",
            "Epoch: 23 Train set: Average loss: 0.0030, Accuracy: 86.328%\n",
            "Epoch: 23 Test set: Average loss: 0.5096, Accuracy: 83.090%\n",
            "loss=0.3251994252204895 batch_id=390: 100%|███| 391/391 [00:15<00:00, 25.61it/s]\n",
            "\n",
            "Epoch: 24 Train set: Average loss: 0.0029, Accuracy: 86.750%\n",
            "Epoch: 24 Test set: Average loss: 0.5244, Accuracy: 82.420%\n",
            "loss=0.3021180331707001 batch_id=390: 100%|███| 391/391 [00:15<00:00, 24.96it/s]\n",
            "\n",
            "Epoch: 25 Train set: Average loss: 0.0029, Accuracy: 86.874%\n",
            "Epoch: 25 Test set: Average loss: 0.5153, Accuracy: 82.940%\n",
            "loss=0.5134096145629883 batch_id=390: 100%|███| 391/391 [00:15<00:00, 25.99it/s]\n",
            "\n",
            "Epoch: 26 Train set: Average loss: 0.0028, Accuracy: 87.302%\n",
            "Epoch: 26 Test set: Average loss: 0.5427, Accuracy: 82.280%\n",
            "loss=0.4035714566707611 batch_id=390: 100%|███| 391/391 [00:15<00:00, 26.34it/s]\n",
            "\n",
            "Epoch: 27 Train set: Average loss: 0.0028, Accuracy: 87.414%\n",
            "Epoch: 27 Test set: Average loss: 0.5255, Accuracy: 83.120%\n",
            "loss=0.43412384390830994 batch_id=390: 100%|██| 391/391 [00:15<00:00, 26.71it/s]\n",
            "\n",
            "Epoch: 28 Train set: Average loss: 0.0026, Accuracy: 87.860%\n",
            "Epoch: 28 Test set: Average loss: 0.5325, Accuracy: 82.890%\n",
            "loss=0.30799931287765503 batch_id=390: 100%|██| 391/391 [00:15<00:00, 24.98it/s]\n",
            "\n",
            "Epoch: 29 Train set: Average loss: 0.0026, Accuracy: 87.966%\n",
            "Epoch: 29 Test set: Average loss: 0.5289, Accuracy: 83.170%\n",
            "loss=0.3082028329372406 batch_id=390: 100%|███| 391/391 [00:15<00:00, 26.79it/s]\n",
            "\n",
            "Epoch: 30 Train set: Average loss: 0.0026, Accuracy: 88.156%\n",
            "Epoch: 30 Test set: Average loss: 0.5125, Accuracy: 83.660%\n",
            "Final model save path: /content/drive/My Drive/EVA4/model_saves/model-20f5076a80.h5\n",
            "crisp-serenity-766\n",
            "sweet-bee-765\n",
            "<Figure size 1500x600 with 1 Axes>\n",
            "<Figure size 1500x600 with 1 Axes>\n",
            "Accuracy of plane : 81 %\n",
            "Accuracy of   car : 90 %\n",
            "Accuracy of  bird : 71 %\n",
            "Accuracy of   cat : 67 %\n",
            "Accuracy of  deer : 83 %\n",
            "Accuracy of   dog : 72 %\n",
            "Accuracy of  frog : 86 %\n",
            "Accuracy of horse : 86 %\n",
            "Accuracy of  ship : 90 %\n",
            "Accuracy of truck : 88 %\n",
            "\n",
            "\u001b[34m\u001b[1mwandb\u001b[0m: Waiting for W&B process to finish, PID 431\n",
            "\u001b[34m\u001b[1mwandb\u001b[0m: Program ended successfully.\n",
            "\u001b[34m\u001b[1mwandb\u001b[0m: Run summary:\n",
            "\u001b[34m\u001b[1mwandb\u001b[0m:                         _runtime 539.062285900116\n",
            "\u001b[34m\u001b[1mwandb\u001b[0m:                       Train Loss 0.0025826442098617554\n",
            "\u001b[34m\u001b[1mwandb\u001b[0m:                   Train Accuracy 88.156\n",
            "\u001b[34m\u001b[1mwandb\u001b[0m:                    Learning Rate 0.01\n",
            "\u001b[34m\u001b[1mwandb\u001b[0m:                        Test Loss 0.5124902316093445\n",
            "\u001b[34m\u001b[1mwandb\u001b[0m:                            _step 29\n",
            "\u001b[34m\u001b[1mwandb\u001b[0m:                    Test Accuracy 83.66\n",
            "\u001b[34m\u001b[1mwandb\u001b[0m:                       _timestamp 1583259443.5442243\n",
            "\u001b[34m\u001b[1mwandb\u001b[0m: Syncing files in wandb/run-20200303_180825-0yiy1pme:\n",
            "\u001b[34m\u001b[1mwandb\u001b[0m:   code/drive/My Drive/EVA4/train_s7_new.py\n",
            "\u001b[34m\u001b[1mwandb\u001b[0m: plus 7 W&B file(s) and 1 media file(s)\n",
            "\u001b[34m\u001b[1mwandb\u001b[0m:                                                                                \n",
            "\u001b[34m\u001b[1mwandb\u001b[0m: Synced crisp-serenity-766: https://app.wandb.ai/rajy4683/news5/runs/0yiy1pme\n"
          ],
          "name": "stdout"
        }
      ]
    },
    {
      "cell_type": "code",
      "metadata": {
        "id": "co-iSigIVfGR",
        "colab_type": "code",
        "colab": {
          "base_uri": "https://localhost:8080/",
          "height": 50
        },
        "outputId": "b49fc895-0d93-434b-dc07-548d79be28ba"
      },
      "source": [
        "from RekogNizer import traintest\n",
        "from RekogNizer import logger\n",
        "from RekogNizer import fileutils\n",
        "from RekogNizer import basemodelclass\n",
        "from RekogNizer import dataloader\n",
        "\n",
        "import pandas as pd\n",
        "import numpy as np\n",
        "import torch"
      ],
      "execution_count": 7,
      "outputs": [
        {
          "output_type": "stream",
          "text": [
            "Files already downloaded and verified\n",
            "Files already downloaded and verified\n"
          ],
          "name": "stdout"
        }
      ]
    },
    {
      "cell_type": "code",
      "metadata": {
        "id": "YC4AjqUhU3mh",
        "colab_type": "code",
        "outputId": "397f47ba-e292-4f9f-a6d3-cce22664f361",
        "colab": {
          "base_uri": "https://localhost:8080/",
          "height": 777
        }
      },
      "source": [
        "\n",
        "\n",
        "runs_df = logger.get_wandb_dataframes_proj(project=\"rajy4683/news5\",count=1)\n",
        "new_df = pd.DataFrame().append(runs_df)\n",
        "\n",
        "\n",
        "fileutils.plot_graphs([new_df],\n",
        "            ['Train Accuracy', 'Test Accuracy'],\n",
        "            columns=['Train Accuracy', 'Test Accuracy'],\n",
        "            xlabel=\"Epochs\",\n",
        "            ylabel=\"Accuracy\")\n",
        "\n",
        "fileutils.plot_graphs([new_df],\n",
        "            ['Train Loss', 'Test Loss'],\n",
        "            columns=['Train Loss', 'Test Loss'],\n",
        "            xlabel=\"Epochs\",\n",
        "            ylabel=\"Loss\")"
      ],
      "execution_count": 8,
      "outputs": [
        {
          "output_type": "stream",
          "text": [
            "crisp-serenity-766\n"
          ],
          "name": "stdout"
        },
        {
          "output_type": "display_data",
          "data": {
            "image/png": "[encoded data removed]",
            "text/plain": [
              "<Figure size 1080x432 with 1 Axes>"
            ]
          },
          "metadata": {
            "tags": []
          }
        },
        {
          "output_type": "display_data",
          "data": {
            "image/png": "[encoded data removed]",
            "text/plain": [
              "<Figure size 1080x432 with 1 Axes>"
            ]
          },
          "metadata": {
            "tags": []
          }
        }
      ]
    },
    {
      "cell_type": "code",
      "metadata": {
        "id": "Co8YWVekVDiD",
        "colab_type": "code",
        "outputId": "9478630f-a377-4546-9f94-3a5fd9531f61",
        "colab": {
          "base_uri": "https://localhost:8080/",
          "height": 185
        }
      },
      "source": [
        "my_model = traintest.model_builder(basemodelclass.CIFARModelDepthDilate, weights_path=\"/content/drive/My Drive/EVA4/model_saves/model-20f5076a80.h5\")\n",
        "class_accuracy_dict = traintest.classwise_accuracy(my_model, dataloader.testloader, dataloader.classes, device=torch.device(\"cpu\"))"
      ],
      "execution_count": 9,
      "outputs": [
        {
          "output_type": "stream",
          "text": [
            "Accuracy of plane : 82 %\n",
            "Accuracy of   car : 89 %\n",
            "Accuracy of  bird : 72 %\n",
            "Accuracy of   cat : 69 %\n",
            "Accuracy of  deer : 81 %\n",
            "Accuracy of   dog : 71 %\n",
            "Accuracy of  frog : 87 %\n",
            "Accuracy of horse : 87 %\n",
            "Accuracy of  ship : 89 %\n",
            "Accuracy of truck : 89 %\n"
          ],
          "name": "stdout"
        }
      ]
    },
    {
      "cell_type": "code",
      "metadata": {
        "id": "lbctloPgVlQ_",
        "colab_type": "code",
        "outputId": "eae35a4a-7526-4ad5-c265-0756853c6a8a",
        "colab": {
          "base_uri": "https://localhost:8080/",
          "height": 282
        }
      },
      "source": [
        "%matplotlib inline\n",
        "import matplotlib.pyplot as plt\n",
        "\n",
        "plt.bar([key for key in class_accuracy_dict.keys()],[val for val in class_accuracy_dict.values()])"
      ],
      "execution_count": 10,
      "outputs": [
        {
          "output_type": "execute_result",
          "data": {
            "text/plain": [
              "<BarContainer object of 10 artists>"
            ]
          },
          "metadata": {
            "tags": []
          },
          "execution_count": 10
        },
        {
          "output_type": "display_data",
          "data": {
            "image/png": "[encoded data removed]",
            "text/plain": [
              "<Figure size 432x288 with 1 Axes>"
            ]
          },
          "metadata": {
            "tags": []
          }
        }
      ]
    },
    {
      "cell_type": "code",
      "metadata": {
        "id": "oDR8xqK5W2-u",
        "colab_type": "code",
        "outputId": "65a4878f-4f93-4e49-f4aa-e696b94d86a6",
        "colab": {
          "base_uri": "https://localhost:8080/",
          "height": 924
        }
      },
      "source": [
        "from torchsummary import summary\n",
        "device = torch.device(\"cuda\")\n",
        "summary(my_model.to(device),input_size=(3, 32, 32))"
      ],
      "execution_count": 12,
      "outputs": [
        {
          "output_type": "stream",
          "text": [
            "----------------------------------------------------------------\n",
            "        Layer (type)               Output Shape         Param #\n",
            "================================================================\n",
            "            Conv2d-1           [-1, 32, 32, 32]             864\n",
            "       BatchNorm2d-2           [-1, 32, 32, 32]              64\n",
            "              ReLU-3           [-1, 32, 32, 32]               0\n",
            "           Dropout-4           [-1, 32, 32, 32]               0\n",
            "            Conv2d-5           [-1, 32, 32, 32]             288\n",
            "            Conv2d-6           [-1, 32, 32, 32]           1,024\n",
            "       BatchNorm2d-7           [-1, 32, 32, 32]              64\n",
            "              ReLU-8           [-1, 32, 32, 32]               0\n",
            "         MaxPool2d-9           [-1, 32, 16, 16]               0\n",
            "          Dropout-10           [-1, 32, 16, 16]               0\n",
            "           Conv2d-11           [-1, 64, 16, 16]          18,432\n",
            "      BatchNorm2d-12           [-1, 64, 16, 16]             128\n",
            "             ReLU-13           [-1, 64, 16, 16]               0\n",
            "          Dropout-14           [-1, 64, 16, 16]               0\n",
            "           Conv2d-15           [-1, 64, 16, 16]             576\n",
            "           Conv2d-16           [-1, 64, 16, 16]           4,096\n",
            "      BatchNorm2d-17           [-1, 64, 16, 16]             128\n",
            "             ReLU-18           [-1, 64, 16, 16]               0\n",
            "        MaxPool2d-19             [-1, 64, 8, 8]               0\n",
            "          Dropout-20             [-1, 64, 8, 8]               0\n",
            "           Conv2d-21            [-1, 128, 8, 8]          73,728\n",
            "      BatchNorm2d-22            [-1, 128, 8, 8]             256\n",
            "             ReLU-23            [-1, 128, 8, 8]               0\n",
            "          Dropout-24            [-1, 128, 8, 8]               0\n",
            "           Conv2d-25            [-1, 128, 8, 8]           1,152\n",
            "           Conv2d-26            [-1, 128, 8, 8]          16,384\n",
            "      BatchNorm2d-27            [-1, 128, 8, 8]             256\n",
            "             ReLU-28            [-1, 128, 8, 8]               0\n",
            "        MaxPool2d-29            [-1, 128, 4, 4]               0\n",
            "          Dropout-30            [-1, 128, 4, 4]               0\n",
            "           Conv2d-31            [-1, 256, 4, 4]         294,912\n",
            "      BatchNorm2d-32            [-1, 256, 4, 4]             512\n",
            "             ReLU-33            [-1, 256, 4, 4]               0\n",
            "          Dropout-34            [-1, 256, 4, 4]               0\n",
            "           Conv2d-35            [-1, 256, 4, 4]          18,432\n",
            "           Conv2d-36            [-1, 256, 4, 4]          65,536\n",
            "      BatchNorm2d-37            [-1, 256, 4, 4]             512\n",
            "             ReLU-38            [-1, 256, 4, 4]               0\n",
            "          Dropout-39            [-1, 256, 4, 4]               0\n",
            "AdaptiveAvgPool2d-40            [-1, 256, 1, 1]               0\n",
            "           Conv2d-41             [-1, 10, 1, 1]           2,560\n",
            "================================================================\n",
            "Total params: 499,904\n",
            "Trainable params: 499,904\n",
            "Non-trainable params: 0\n",
            "----------------------------------------------------------------\n",
            "Input size (MB): 0.01\n",
            "Forward/backward pass size (MB): 4.00\n",
            "Params size (MB): 1.91\n",
            "Estimated Total Size (MB): 5.92\n",
            "----------------------------------------------------------------\n"
          ],
          "name": "stdout"
        }
      ]
    },
    {
      "cell_type": "code",
      "metadata": {
        "id": "p1o6JGs9XFUZ",
        "colab_type": "code",
        "colab": {}
      },
      "source": [
        ""
      ],
      "execution_count": 0,
      "outputs": []
    }
  ]
}