{
  "nbformat": 4,
  "nbformat_minor": 0,
  "metadata": {
    "colab": {
      "name": "S7EVA4_Depth_Dilate.ipynb",
      "provenance": [],
      "collapsed_sections": [],
      "toc_visible": true,
      "authorship_tag": "ABX9TyMbbyspxKs2V3f7OghEVZbw",
      "include_colab_link": true
    },
    "kernelspec": {
      "name": "python3",
      "display_name": "Python 3"
    },
    "accelerator": "GPU"
  },
  "cells": [
    {
      "cell_type": "markdown",
      "metadata": {
        "id": "view-in-github",
        "colab_type": "text"
      },
      "source": [
        "<a href=\"https://colab.research.google.com/github/rajy4683/S7EVA4/blob/master/S7EVA4_Depth_Dilate.ipynb\" target=\"_parent\"><img src=\"https://colab.research.google.com/assets/colab-badge.svg\" alt=\"Open In Colab\"/></a>"
      ]
    },
    {
      "cell_type": "code",
      "metadata": {
        "id": "ilBDSmXWKgFJ",
        "colab_type": "code",
        "outputId": "94949045-9077-4cff-9945-4784566a3598",
        "colab": {
          "base_uri": "https://localhost:8080/",
          "height": 34
        }
      },
      "source": [
        "from google.colab import drive\n",
        "drive.mount('/content/drive')\n",
        "import sys\n"
      ],
      "execution_count": 1,
      "outputs": [
        {
          "output_type": "stream",
          "text": [
            "Drive already mounted at /content/drive; to attempt to forcibly remount, call drive.mount(\"/content/drive\", force_remount=True).\n"
          ],
          "name": "stdout"
        }
      ]
    },
    {
      "cell_type": "code",
      "metadata": {
        "id": "n47ydpLGKpts",
        "colab_type": "code",
        "colab": {}
      },
      "source": [
        "#!pip install git+https://github.com/rajy4683/RekogNizer.git"
      ],
      "execution_count": 0,
      "outputs": []
    },
    {
      "cell_type": "code",
      "metadata": {
        "id": "-u1pUWK8PGHF",
        "colab_type": "code",
        "colab": {}
      },
      "source": [
        "#!git clone https://github.com/rajy4683/RekogNizer.git /content/drive/My\\ Drive/EVA4/TestImports"
      ],
      "execution_count": 0,
      "outputs": []
    },
    {
      "cell_type": "code",
      "metadata": {
        "id": "wmDiac5MMYuB",
        "colab_type": "code",
        "colab": {}
      },
      "source": [
        "!pip install -r /content/drive/My\\ Drive/EVA4/RekogNizer/requirements.txt"
      ],
      "execution_count": 0,
      "outputs": []
    },
    {
      "cell_type": "code",
      "metadata": {
        "id": "9jXqRCsIMlaP",
        "colab_type": "code",
        "outputId": "054e938b-7495-4a8c-bfe2-e543a4ead005",
        "colab": {
          "base_uri": "https://localhost:8080/",
          "height": 50
        }
      },
      "source": [
        "!wandb login a6f947d2d2f69e7a8c8ca0f69811fd554f27d204"
      ],
      "execution_count": 3,
      "outputs": [
        {
          "output_type": "stream",
          "text": [
            "\u001b[34m\u001b[1mwandb\u001b[0m: Appending key for api.wandb.ai to your netrc file: /root/.netrc\n",
            "\u001b[32mSuccessfully logged in to Weights & Biases!\u001b[0m\n"
          ],
          "name": "stdout"
        }
      ]
    },
    {
      "cell_type": "code",
      "metadata": {
        "id": "GtEDAJTjP9_R",
        "colab_type": "code",
        "colab": {}
      },
      "source": [
        "sys.path.append('/content/drive/My Drive/EVA4/')\n",
        "sys.path.append('/content/drive/My Drive/EVA4/RekogNizer')\n"
      ],
      "execution_count": 0,
      "outputs": []
    },
    {
      "cell_type": "code",
      "metadata": {
        "id": "Im4DxNueKpZJ",
        "colab_type": "code",
        "colab": {
          "base_uri": "https://localhost:8080/",
          "height": 50
        },
        "outputId": "85a52a92-7bce-4931-b2db-a6714ed2d505"
      },
      "source": [
        "%load_ext autoreload\n",
        "%autoreload 2\n",
        "from RekogNizer import hyperparams\n",
        "from RekogNizer import basemodelclass\n",
        "from RekogNizer import fileutils\n",
        "from RekogNizer.dataloader import *\n",
        "from RekogNizer import traintest\n",
        "from torchsummary import summary\n",
        "device = torch.device(\"cuda\" if not hyperparameter_defaults['no_cuda'] else \"cpu\")\n"
      ],
      "execution_count": 57,
      "outputs": [
        {
          "output_type": "stream",
          "text": [
            "The autoreload extension is already loaded. To reload it, use:\n",
            "  %reload_ext autoreload\n"
          ],
          "name": "stdout"
        }
      ]
    },
    {
      "cell_type": "code",
      "metadata": {
        "id": "m_HutCKlUwuW",
        "colab_type": "code",
        "outputId": "174834dc-6db0-4758-da2e-88110eb167fb",
        "colab": {
          "base_uri": "https://localhost:8080/",
          "height": 34
        }
      },
      "source": [
        "fileutils.rand_run_name()"
      ],
      "execution_count": 81,
      "outputs": [
        {
          "output_type": "execute_result",
          "data": {
            "text/plain": [
              "'1626f4023a'"
            ]
          },
          "metadata": {
            "tags": []
          },
          "execution_count": 81
        }
      ]
    },
    {
      "cell_type": "code",
      "metadata": {
        "id": "9-dPlEuHZzmk",
        "colab_type": "code",
        "outputId": "dad2ea88-3c66-4d01-b800-2f51d52be90b",
        "colab": {
          "base_uri": "https://localhost:8080/",
          "height": 34
        }
      },
      "source": [
        "print(len(trainloader))\n",
        "dataiter = iter(trainloader)\n",
        "images, labels = dataiter.next()\n",
        "print(images.shape)"
      ],
      "execution_count": 6,
      "outputs": [
        {
          "output_type": "stream",
          "text": [
            "torch.Size([128, 3, 32, 32])\n"
          ],
          "name": "stdout"
        }
      ]
    },
    {
      "cell_type": "code",
      "metadata": {
        "id": "hzFBNpIfLhfQ",
        "colab_type": "code",
        "outputId": "4013529a-ee91-4371-c0ca-d979f08156f1",
        "colab": {
          "base_uri": "https://localhost:8080/",
          "height": 252
        }
      },
      "source": [
        "hyperparams.print_hyperparams()"
      ],
      "execution_count": 69,
      "outputs": [
        {
          "output_type": "stream",
          "text": [
            "             dropout : 0.1 \n",
            "          batch_size : 128 \n",
            "     test_batch_size : 128 \n",
            "                  lr : 0.001 \n",
            "            momentum : 0.9 \n",
            "             no_cuda : False \n",
            "                seed : 1 \n",
            "              epochs : 15 \n",
            "                bias : False \n",
            "      sched_lr_gamma : 0.5 \n",
            "       sched_lr_step : 1 \n",
            "            start_lr : 0 \n",
            "        weight_decay : 0.0 \n",
            "             project : news4eva4 \n"
          ],
          "name": "stdout"
        }
      ]
    },
    {
      "cell_type": "code",
      "metadata": {
        "id": "phygoXmeZ6Cr",
        "colab_type": "code",
        "outputId": "b352ad2b-aebc-4658-89cb-9ffb56659c57",
        "colab": {
          "base_uri": "https://localhost:8080/",
          "height": 369
        }
      },
      "source": [
        "fileutils.get_image_samples(trainloader, classes)"
      ],
      "execution_count": 80,
      "outputs": [
        {
          "output_type": "stream",
          "text": [
            "plane   dog  deer  deer truck   cat truck truck   cat   cat plane horse plane   dog   dog  deer   car   car  frog   car  frog   dog  ship   cat   car  frog  deer  bird  deer  bird   cat horse\n"
          ],
          "name": "stdout"
        },
        {
          "output_type": "display_data",
          "data": {
            "image/png": "[encoded data removed]",
            "text/plain": [
              "<Figure size 720x720 with 1 Axes>"
            ]
          },
          "metadata": {
            "tags": []
          }
        }
      ]
    },
    {
      "cell_type": "code",
      "metadata": {
        "id": "on9hYmTHBMQ3",
        "colab_type": "code",
        "colab": {
          "base_uri": "https://localhost:8080/",
          "height": 924
        },
        "outputId": "a82f22e4-a3bf-4624-b359-45e903adad17"
      },
      "source": [
        "model_new = basemodelclass.CIFARModelDepthDilate().to(device)\n",
        "summary(model_new,input_size=(3, 32, 32))"
      ],
      "execution_count": 6,
      "outputs": [
        {
          "output_type": "stream",
          "text": [
            "----------------------------------------------------------------\n",
            "        Layer (type)               Output Shape         Param #\n",
            "================================================================\n",
            "            Conv2d-1           [-1, 32, 32, 32]             864\n",
            "       BatchNorm2d-2           [-1, 32, 32, 32]              64\n",
            "              ReLU-3           [-1, 32, 32, 32]               0\n",
            "           Dropout-4           [-1, 32, 32, 32]               0\n",
            "            Conv2d-5           [-1, 32, 32, 32]             288\n",
            "            Conv2d-6           [-1, 32, 32, 32]           1,024\n",
            "       BatchNorm2d-7           [-1, 32, 32, 32]              64\n",
            "              ReLU-8           [-1, 32, 32, 32]               0\n",
            "         MaxPool2d-9           [-1, 32, 16, 16]               0\n",
            "          Dropout-10           [-1, 32, 16, 16]               0\n",
            "           Conv2d-11           [-1, 64, 16, 16]          18,432\n",
            "      BatchNorm2d-12           [-1, 64, 16, 16]             128\n",
            "             ReLU-13           [-1, 64, 16, 16]               0\n",
            "          Dropout-14           [-1, 64, 16, 16]               0\n",
            "           Conv2d-15           [-1, 64, 16, 16]             576\n",
            "           Conv2d-16           [-1, 64, 16, 16]           4,096\n",
            "      BatchNorm2d-17           [-1, 64, 16, 16]             128\n",
            "             ReLU-18           [-1, 64, 16, 16]               0\n",
            "        MaxPool2d-19             [-1, 64, 8, 8]               0\n",
            "          Dropout-20             [-1, 64, 8, 8]               0\n",
            "           Conv2d-21            [-1, 128, 6, 6]          73,728\n",
            "      BatchNorm2d-22            [-1, 128, 6, 6]             256\n",
            "             ReLU-23            [-1, 128, 6, 6]               0\n",
            "          Dropout-24            [-1, 128, 6, 6]               0\n",
            "           Conv2d-25            [-1, 128, 4, 4]           1,152\n",
            "           Conv2d-26            [-1, 128, 4, 4]          16,384\n",
            "      BatchNorm2d-27            [-1, 128, 4, 4]             256\n",
            "             ReLU-28            [-1, 128, 4, 4]               0\n",
            "        MaxPool2d-29            [-1, 128, 2, 2]               0\n",
            "          Dropout-30            [-1, 128, 2, 2]               0\n",
            "           Conv2d-31            [-1, 256, 2, 2]         294,912\n",
            "      BatchNorm2d-32            [-1, 256, 2, 2]             512\n",
            "             ReLU-33            [-1, 256, 2, 2]               0\n",
            "          Dropout-34            [-1, 256, 2, 2]               0\n",
            "           Conv2d-35            [-1, 256, 2, 2]          18,432\n",
            "           Conv2d-36            [-1, 256, 2, 2]          65,536\n",
            "      BatchNorm2d-37            [-1, 256, 2, 2]             512\n",
            "             ReLU-38            [-1, 256, 2, 2]               0\n",
            "          Dropout-39            [-1, 256, 2, 2]               0\n",
            "AdaptiveAvgPool2d-40            [-1, 256, 1, 1]               0\n",
            "           Conv2d-41             [-1, 10, 1, 1]           2,560\n",
            "================================================================\n",
            "Total params: 499,904\n",
            "Trainable params: 499,904\n",
            "Non-trainable params: 0\n",
            "----------------------------------------------------------------\n",
            "Input size (MB): 0.01\n",
            "Forward/backward pass size (MB): 3.47\n",
            "Params size (MB): 1.91\n",
            "Estimated Total Size (MB): 5.39\n",
            "----------------------------------------------------------------\n"
          ],
          "name": "stdout"
        }
      ]
    },
    {
      "cell_type": "code",
      "metadata": {
        "id": "MLtp5Y-YR3I5",
        "colab_type": "code",
        "outputId": "d435e71e-3919-4328-8d73-1d373f06ece3",
        "colab": {
          "base_uri": "https://localhost:8080/",
          "height": 34
        }
      },
      "source": [
        "type(model_new)"
      ],
      "execution_count": 7,
      "outputs": [
        {
          "output_type": "execute_result",
          "data": {
            "text/plain": [
              "RekogNizer.basemodelclass.CIFARModelDepthDilate"
            ]
          },
          "metadata": {
            "tags": []
          },
          "execution_count": 7
        }
      ]
    },
    {
      "cell_type": "code",
      "metadata": {
        "id": "bfVvcGDsP10X",
        "colab_type": "code",
        "colab": {
          "base_uri": "https://localhost:8080/",
          "height": 1000
        },
        "outputId": "fbb445fa-8b80-4750-ea32-da668100ab8a"
      },
      "source": [
        "optimizer=optim.SGD#(model.parameters(), lr=0.001, momentum=0.9)\n",
        "criterion=nn.CrossEntropyLoss\n",
        "#model = basemodelclass.CIFARModelBuilder()#.to(device)\n",
        "model_new = basemodelclass.CIFARModelDepthDilate#.to(device)\n",
        "#execute_model(model, hyperparameter_defaults, )\n",
        "execute_model(model_new, hyperparameter_defaults, \n",
        "              trainloader, testloader, \n",
        "              device, classes,\n",
        "              optimizer=optimizer,\n",
        "              criterion=criterion)"
      ],
      "execution_count": 8,
      "outputs": [
        {
          "output_type": "display_data",
          "data": {
            "text/html": [
              "\n",
              "                Logging results to <a href=\"https://wandb.com\" target=\"_blank\">Weights & Biases</a> <a href=\"https://docs.wandb.com/integrations/jupyter.html\" target=\"_blank\">(Documentation)</a>.<br/>\n",
              "                Project page: <a href=\"https://app.wandb.ai/rajy4683/news4eva4\" target=\"_blank\">https://app.wandb.ai/rajy4683/news4eva4</a><br/>\n",
              "                Run page: <a href=\"https://app.wandb.ai/rajy4683/news4eva4/runs/h5cejeg2\" target=\"_blank\">https://app.wandb.ai/rajy4683/news4eva4/runs/h5cejeg2</a><br/>\n",
              "            "
            ],
            "text/plain": [
              "<IPython.core.display.HTML object>"
            ]
          },
          "metadata": {
            "tags": []
          }
        },
        {
          "output_type": "stream",
          "text": [
            "\r  0%|          | 0/391 [00:00<?, ?it/s]"
          ],
          "name": "stderr"
        },
        {
          "output_type": "stream",
          "text": [
            "Model saved to:  /content/drive/My Drive/EVA4/model_saves/model-11f0f918dc.h5\n",
            "Hyper Params:\n",
            "wandb_version: 1\n",
            "\n",
            "_wandb:\n",
            "  desc: null\n",
            "  value:\n",
            "    cli_version: 0.8.28\n",
            "    is_jupyter_run: true\n",
            "    python_version: 3.6.9\n",
            "batch_size:\n",
            "  desc: null\n",
            "  value: 128\n",
            "bias:\n",
            "  desc: null\n",
            "  value: false\n",
            "dropout:\n",
            "  desc: null\n",
            "  value: 0.1\n",
            "epochs:\n",
            "  desc: null\n",
            "  value: 15\n",
            "lr:\n",
            "  desc: null\n",
            "  value: 0.001\n",
            "momentum:\n",
            "  desc: null\n",
            "  value: 0.9\n",
            "no_cuda:\n",
            "  desc: null\n",
            "  value: false\n",
            "project:\n",
            "  desc: null\n",
            "  value: news4eva4\n",
            "run_name:\n",
            "  desc: null\n",
            "  value: 11f0f918dc\n",
            "sched_lr_gamma:\n",
            "  desc: null\n",
            "  value: 0.5\n",
            "sched_lr_step:\n",
            "  desc: null\n",
            "  value: 1\n",
            "seed:\n",
            "  desc: null\n",
            "  value: 1\n",
            "start_lr:\n",
            "  desc: null\n",
            "  value: 0\n",
            "test_batch_size:\n",
            "  desc: null\n",
            "  value: 128\n",
            "weight_decay:\n",
            "  desc: null\n",
            "  value: 0.0\n",
            "\n"
          ],
          "name": "stdout"
        },
        {
          "output_type": "stream",
          "text": [
            "loss=1.903929352760315 batch_id=390: 100%|██████████| 391/391 [00:15<00:00, 25.27it/s]\n",
            "  0%|          | 0/391 [00:00<?, ?it/s]"
          ],
          "name": "stderr"
        },
        {
          "output_type": "stream",
          "text": [
            "\n",
            "Epoch: 1 Train set: Average loss: 0.0151, Accuracy: 28.940%\n",
            "Epoch: 1 Test set: Average loss: 1.8127, Accuracy: 30.450%\n"
          ],
          "name": "stdout"
        },
        {
          "output_type": "stream",
          "text": [
            "loss=1.3780571222305298 batch_id=390: 100%|██████████| 391/391 [00:16<00:00, 23.78it/s]\n",
            "  0%|          | 0/391 [00:00<?, ?it/s]"
          ],
          "name": "stderr"
        },
        {
          "output_type": "stream",
          "text": [
            "\n",
            "Epoch: 2 Train set: Average loss: 0.0118, Accuracy: 44.544%\n",
            "Epoch: 2 Test set: Average loss: 1.8229, Accuracy: 34.340%\n"
          ],
          "name": "stdout"
        },
        {
          "output_type": "stream",
          "text": [
            "loss=1.2992695569992065 batch_id=390: 100%|██████████| 391/391 [00:15<00:00, 27.71it/s]\n",
            "  0%|          | 0/391 [00:00<?, ?it/s]"
          ],
          "name": "stderr"
        },
        {
          "output_type": "stream",
          "text": [
            "\n",
            "Epoch: 3 Train set: Average loss: 0.0105, Accuracy: 50.368%\n",
            "Epoch: 3 Test set: Average loss: 1.4499, Accuracy: 47.690%\n"
          ],
          "name": "stdout"
        },
        {
          "output_type": "stream",
          "text": [
            "loss=1.0451637506484985 batch_id=390: 100%|██████████| 391/391 [00:16<00:00, 24.11it/s]\n",
            "  0%|          | 0/391 [00:00<?, ?it/s]"
          ],
          "name": "stderr"
        },
        {
          "output_type": "stream",
          "text": [
            "\n",
            "Epoch: 4 Train set: Average loss: 0.0097, Accuracy: 54.926%\n",
            "Epoch: 4 Test set: Average loss: 1.3188, Accuracy: 53.250%\n"
          ],
          "name": "stdout"
        },
        {
          "output_type": "stream",
          "text": [
            "loss=1.1197428703308105 batch_id=390: 100%|██████████| 391/391 [00:16<00:00, 26.56it/s]\n",
            "  0%|          | 0/391 [00:00<?, ?it/s]"
          ],
          "name": "stderr"
        },
        {
          "output_type": "stream",
          "text": [
            "\n",
            "Epoch: 5 Train set: Average loss: 0.0090, Accuracy: 58.606%\n",
            "Epoch: 5 Test set: Average loss: 1.2319, Accuracy: 56.670%\n"
          ],
          "name": "stdout"
        },
        {
          "output_type": "stream",
          "text": [
            "loss=1.0532777309417725 batch_id=390: 100%|██████████| 391/391 [00:17<00:00, 26.19it/s]\n",
            "  0%|          | 0/391 [00:00<?, ?it/s]"
          ],
          "name": "stderr"
        },
        {
          "output_type": "stream",
          "text": [
            "\n",
            "Epoch: 6 Train set: Average loss: 0.0084, Accuracy: 61.260%\n",
            "Epoch: 6 Test set: Average loss: 1.0942, Accuracy: 61.100%\n"
          ],
          "name": "stdout"
        },
        {
          "output_type": "stream",
          "text": [
            "loss=1.1275981664657593 batch_id=390: 100%|██████████| 391/391 [00:16<00:00, 23.56it/s]\n",
            "  0%|          | 0/391 [00:00<?, ?it/s]"
          ],
          "name": "stderr"
        },
        {
          "output_type": "stream",
          "text": [
            "\n",
            "Epoch: 7 Train set: Average loss: 0.0079, Accuracy: 64.048%\n",
            "Epoch: 7 Test set: Average loss: 1.0820, Accuracy: 61.970%\n"
          ],
          "name": "stdout"
        },
        {
          "output_type": "stream",
          "text": [
            "loss=0.8353856801986694 batch_id=390: 100%|██████████| 391/391 [00:16<00:00, 26.66it/s]\n",
            "  0%|          | 0/391 [00:00<?, ?it/s]"
          ],
          "name": "stderr"
        },
        {
          "output_type": "stream",
          "text": [
            "\n",
            "Epoch: 8 Train set: Average loss: 0.0074, Accuracy: 65.956%\n",
            "Epoch: 8 Test set: Average loss: 1.0745, Accuracy: 62.610%\n"
          ],
          "name": "stdout"
        },
        {
          "output_type": "stream",
          "text": [
            "loss=1.019911289215088 batch_id=390: 100%|██████████| 391/391 [00:16<00:00, 23.15it/s]\n",
            "  0%|          | 0/391 [00:00<?, ?it/s]"
          ],
          "name": "stderr"
        },
        {
          "output_type": "stream",
          "text": [
            "\n",
            "Epoch: 9 Train set: Average loss: 0.0072, Accuracy: 67.306%\n",
            "Epoch: 9 Test set: Average loss: 0.8937, Accuracy: 68.340%\n"
          ],
          "name": "stdout"
        },
        {
          "output_type": "stream",
          "text": [
            "loss=0.9524184465408325 batch_id=390: 100%|██████████| 391/391 [00:17<00:00, 22.74it/s]\n",
            "  0%|          | 0/391 [00:00<?, ?it/s]"
          ],
          "name": "stderr"
        },
        {
          "output_type": "stream",
          "text": [
            "\n",
            "Epoch: 10 Train set: Average loss: 0.0068, Accuracy: 68.984%\n",
            "Epoch: 10 Test set: Average loss: 0.8880, Accuracy: 69.020%\n"
          ],
          "name": "stdout"
        },
        {
          "output_type": "stream",
          "text": [
            "loss=0.8964845538139343 batch_id=390: 100%|██████████| 391/391 [00:17<00:00, 22.66it/s]\n",
            "  0%|          | 0/391 [00:00<?, ?it/s]"
          ],
          "name": "stderr"
        },
        {
          "output_type": "stream",
          "text": [
            "\n",
            "Epoch: 11 Train set: Average loss: 0.0066, Accuracy: 69.978%\n",
            "Epoch: 11 Test set: Average loss: 0.8174, Accuracy: 71.190%\n"
          ],
          "name": "stdout"
        },
        {
          "output_type": "stream",
          "text": [
            "loss=1.0863478183746338 batch_id=390: 100%|██████████| 391/391 [00:16<00:00, 23.19it/s]\n",
            "  0%|          | 0/391 [00:00<?, ?it/s]"
          ],
          "name": "stderr"
        },
        {
          "output_type": "stream",
          "text": [
            "\n",
            "Epoch: 12 Train set: Average loss: 0.0064, Accuracy: 71.100%\n",
            "Epoch: 12 Test set: Average loss: 0.8037, Accuracy: 71.700%\n"
          ],
          "name": "stdout"
        },
        {
          "output_type": "stream",
          "text": [
            "loss=0.8439515829086304 batch_id=390: 100%|██████████| 391/391 [00:17<00:00, 22.71it/s]\n",
            "  0%|          | 0/391 [00:00<?, ?it/s]"
          ],
          "name": "stderr"
        },
        {
          "output_type": "stream",
          "text": [
            "\n",
            "Epoch: 13 Train set: Average loss: 0.0062, Accuracy: 71.838%\n",
            "Epoch: 13 Test set: Average loss: 0.8340, Accuracy: 70.800%\n"
          ],
          "name": "stdout"
        },
        {
          "output_type": "stream",
          "text": [
            "loss=0.8223146200180054 batch_id=390: 100%|██████████| 391/391 [00:17<00:00, 22.91it/s]\n",
            "  0%|          | 0/391 [00:00<?, ?it/s]"
          ],
          "name": "stderr"
        },
        {
          "output_type": "stream",
          "text": [
            "\n",
            "Epoch: 14 Train set: Average loss: 0.0060, Accuracy: 72.598%\n",
            "Epoch: 14 Test set: Average loss: 0.8108, Accuracy: 71.790%\n"
          ],
          "name": "stdout"
        },
        {
          "output_type": "stream",
          "text": [
            "loss=1.0446099042892456 batch_id=390: 100%|██████████| 391/391 [00:16<00:00, 28.06it/s]\n"
          ],
          "name": "stderr"
        },
        {
          "output_type": "stream",
          "text": [
            "\n",
            "Epoch: 15 Train set: Average loss: 0.0059, Accuracy: 73.538%\n",
            "Epoch: 15 Test set: Average loss: 0.7817, Accuracy: 73.050%\n",
            "Final model save path: /content/drive/My Drive/EVA4/model_saves/model-11f0f918dc.h5\n"
          ],
          "name": "stdout"
        }
      ]
    },
    {
      "cell_type": "code",
      "metadata": {
        "id": "gEAtGfNcNejW",
        "colab_type": "code",
        "colab": {
          "base_uri": "https://localhost:8080/",
          "height": 1000
        },
        "outputId": "c682b608-816d-4e4d-f1cc-b76b081e9e94"
      },
      "source": [
        "execute_model(model_new, hyperparameter_defaults, \n",
        "              trainloader, testloader, \n",
        "              device, classes,\n",
        "              optimizer=optimizer,\n",
        "              criterion=criterion,\n",
        "              prev_saved_model=\"/content/drive/My Drive/EVA4/model_saves/model-11f0f918dc.h5\")"
      ],
      "execution_count": 9,
      "outputs": [
        {
          "output_type": "display_data",
          "data": {
            "text/html": [
              "\n",
              "                Logging results to <a href=\"https://wandb.com\" target=\"_blank\">Weights & Biases</a> <a href=\"https://docs.wandb.com/integrations/jupyter.html\" target=\"_blank\">(Documentation)</a>.<br/>\n",
              "                Project page: <a href=\"https://app.wandb.ai/rajy4683/news4eva4\" target=\"_blank\">https://app.wandb.ai/rajy4683/news4eva4</a><br/>\n",
              "                Run page: <a href=\"https://app.wandb.ai/rajy4683/news4eva4/runs/2zoz8lca\" target=\"_blank\">https://app.wandb.ai/rajy4683/news4eva4/runs/2zoz8lca</a><br/>\n",
              "            "
            ],
            "text/plain": [
              "<IPython.core.display.HTML object>"
            ]
          },
          "metadata": {
            "tags": []
          }
        },
        {
          "output_type": "stream",
          "text": [
            "\r  0%|          | 0/391 [00:00<?, ?it/s]"
          ],
          "name": "stderr"
        },
        {
          "output_type": "stream",
          "text": [
            "Model saved to:  /content/drive/My Drive/EVA4/model_saves/model-33ef5baa01.h5\n",
            "Hyper Params:\n",
            "wandb_version: 1\n",
            "\n",
            "_wandb:\n",
            "  desc: null\n",
            "  value:\n",
            "    cli_version: 0.8.28\n",
            "    is_jupyter_run: true\n",
            "    python_version: 3.6.9\n",
            "batch_size:\n",
            "  desc: null\n",
            "  value: 128\n",
            "bias:\n",
            "  desc: null\n",
            "  value: false\n",
            "dropout:\n",
            "  desc: null\n",
            "  value: 0.1\n",
            "epochs:\n",
            "  desc: null\n",
            "  value: 15\n",
            "lr:\n",
            "  desc: null\n",
            "  value: 0.001\n",
            "momentum:\n",
            "  desc: null\n",
            "  value: 0.9\n",
            "no_cuda:\n",
            "  desc: null\n",
            "  value: false\n",
            "project:\n",
            "  desc: null\n",
            "  value: news4eva4\n",
            "run_name:\n",
            "  desc: null\n",
            "  value: 33ef5baa01\n",
            "sched_lr_gamma:\n",
            "  desc: null\n",
            "  value: 0.5\n",
            "sched_lr_step:\n",
            "  desc: null\n",
            "  value: 1\n",
            "seed:\n",
            "  desc: null\n",
            "  value: 1\n",
            "start_lr:\n",
            "  desc: null\n",
            "  value: 0\n",
            "test_batch_size:\n",
            "  desc: null\n",
            "  value: 128\n",
            "weight_decay:\n",
            "  desc: null\n",
            "  value: 0.0\n",
            "\n"
          ],
          "name": "stdout"
        },
        {
          "output_type": "stream",
          "text": [
            "loss=0.8953818082809448 batch_id=390: 100%|██████████| 391/391 [00:16<00:00, 27.79it/s]\n",
            "  0%|          | 0/391 [00:00<?, ?it/s]"
          ],
          "name": "stderr"
        },
        {
          "output_type": "stream",
          "text": [
            "\n",
            "Epoch: 1 Train set: Average loss: 0.0057, Accuracy: 74.126%\n",
            "Epoch: 1 Test set: Average loss: 0.7307, Accuracy: 74.640%\n"
          ],
          "name": "stdout"
        },
        {
          "output_type": "stream",
          "text": [
            "loss=0.6657634377479553 batch_id=390: 100%|██████████| 391/391 [00:16<00:00, 24.43it/s]\n",
            "  0%|          | 0/391 [00:00<?, ?it/s]"
          ],
          "name": "stderr"
        },
        {
          "output_type": "stream",
          "text": [
            "\n",
            "Epoch: 2 Train set: Average loss: 0.0055, Accuracy: 74.872%\n",
            "Epoch: 2 Test set: Average loss: 0.7898, Accuracy: 72.710%\n"
          ],
          "name": "stdout"
        },
        {
          "output_type": "stream",
          "text": [
            "loss=0.7641781568527222 batch_id=390: 100%|██████████| 391/391 [00:16<00:00, 23.89it/s]\n",
            "  0%|          | 0/391 [00:00<?, ?it/s]"
          ],
          "name": "stderr"
        },
        {
          "output_type": "stream",
          "text": [
            "\n",
            "Epoch: 3 Train set: Average loss: 0.0054, Accuracy: 75.328%\n",
            "Epoch: 3 Test set: Average loss: 0.7005, Accuracy: 75.570%\n"
          ],
          "name": "stdout"
        },
        {
          "output_type": "stream",
          "text": [
            "loss=0.73954176902771 batch_id=390: 100%|██████████| 391/391 [00:15<00:00, 24.83it/s]\n",
            "  0%|          | 0/391 [00:00<?, ?it/s]"
          ],
          "name": "stderr"
        },
        {
          "output_type": "stream",
          "text": [
            "\n",
            "Epoch: 4 Train set: Average loss: 0.0053, Accuracy: 76.028%\n",
            "Epoch: 4 Test set: Average loss: 0.7292, Accuracy: 74.920%\n"
          ],
          "name": "stdout"
        },
        {
          "output_type": "stream",
          "text": [
            "loss=0.5489559769630432 batch_id=390: 100%|██████████| 391/391 [00:16<00:00, 24.08it/s]\n",
            "  0%|          | 0/391 [00:00<?, ?it/s]"
          ],
          "name": "stderr"
        },
        {
          "output_type": "stream",
          "text": [
            "\n",
            "Epoch: 5 Train set: Average loss: 0.0052, Accuracy: 76.412%\n",
            "Epoch: 5 Test set: Average loss: 0.6932, Accuracy: 76.030%\n"
          ],
          "name": "stdout"
        },
        {
          "output_type": "stream",
          "text": [
            "loss=0.6530727744102478 batch_id=390: 100%|██████████| 391/391 [00:16<00:00, 25.75it/s]\n",
            "  0%|          | 0/391 [00:00<?, ?it/s]"
          ],
          "name": "stderr"
        },
        {
          "output_type": "stream",
          "text": [
            "\n",
            "Epoch: 6 Train set: Average loss: 0.0051, Accuracy: 77.132%\n",
            "Epoch: 6 Test set: Average loss: 0.7214, Accuracy: 74.860%\n"
          ],
          "name": "stdout"
        },
        {
          "output_type": "stream",
          "text": [
            "loss=0.6806727647781372 batch_id=390: 100%|██████████| 391/391 [00:16<00:00, 24.31it/s]\n",
            "  0%|          | 0/391 [00:00<?, ?it/s]"
          ],
          "name": "stderr"
        },
        {
          "output_type": "stream",
          "text": [
            "\n",
            "Epoch: 7 Train set: Average loss: 0.0050, Accuracy: 77.482%\n",
            "Epoch: 7 Test set: Average loss: 0.7392, Accuracy: 74.580%\n"
          ],
          "name": "stdout"
        },
        {
          "output_type": "stream",
          "text": [
            "loss=0.5704137086868286 batch_id=390: 100%|██████████| 391/391 [00:16<00:00, 27.17it/s]\n",
            "  0%|          | 0/391 [00:00<?, ?it/s]"
          ],
          "name": "stderr"
        },
        {
          "output_type": "stream",
          "text": [
            "\n",
            "Epoch: 8 Train set: Average loss: 0.0049, Accuracy: 78.248%\n",
            "Epoch: 8 Test set: Average loss: 0.6835, Accuracy: 76.120%\n"
          ],
          "name": "stdout"
        },
        {
          "output_type": "stream",
          "text": [
            "loss=0.7472148537635803 batch_id=390: 100%|██████████| 391/391 [00:16<00:00, 23.31it/s]\n",
            "  0%|          | 0/391 [00:00<?, ?it/s]"
          ],
          "name": "stderr"
        },
        {
          "output_type": "stream",
          "text": [
            "\n",
            "Epoch: 9 Train set: Average loss: 0.0048, Accuracy: 78.382%\n",
            "Epoch: 9 Test set: Average loss: 0.6431, Accuracy: 77.980%\n"
          ],
          "name": "stdout"
        },
        {
          "output_type": "stream",
          "text": [
            "loss=0.6449564099311829 batch_id=390: 100%|██████████| 391/391 [00:16<00:00, 25.85it/s]\n",
            "  0%|          | 0/391 [00:00<?, ?it/s]"
          ],
          "name": "stderr"
        },
        {
          "output_type": "stream",
          "text": [
            "\n",
            "Epoch: 10 Train set: Average loss: 0.0047, Accuracy: 78.842%\n",
            "Epoch: 10 Test set: Average loss: 0.6542, Accuracy: 77.880%\n"
          ],
          "name": "stdout"
        },
        {
          "output_type": "stream",
          "text": [
            "loss=0.5798713564872742 batch_id=390: 100%|██████████| 391/391 [00:16<00:00, 23.22it/s]\n",
            "  0%|          | 0/391 [00:00<?, ?it/s]"
          ],
          "name": "stderr"
        },
        {
          "output_type": "stream",
          "text": [
            "\n",
            "Epoch: 11 Train set: Average loss: 0.0046, Accuracy: 79.342%\n",
            "Epoch: 11 Test set: Average loss: 0.6446, Accuracy: 77.990%\n"
          ],
          "name": "stdout"
        },
        {
          "output_type": "stream",
          "text": [
            "loss=0.7394603490829468 batch_id=390: 100%|██████████| 391/391 [00:16<00:00, 26.36it/s]\n",
            "  0%|          | 0/391 [00:00<?, ?it/s]"
          ],
          "name": "stderr"
        },
        {
          "output_type": "stream",
          "text": [
            "\n",
            "Epoch: 12 Train set: Average loss: 0.0045, Accuracy: 79.668%\n",
            "Epoch: 12 Test set: Average loss: 0.6740, Accuracy: 77.220%\n"
          ],
          "name": "stdout"
        },
        {
          "output_type": "stream",
          "text": [
            "loss=0.6789752244949341 batch_id=390: 100%|██████████| 391/391 [00:16<00:00, 26.43it/s]\n",
            "  0%|          | 0/391 [00:00<?, ?it/s]"
          ],
          "name": "stderr"
        },
        {
          "output_type": "stream",
          "text": [
            "\n",
            "Epoch: 13 Train set: Average loss: 0.0045, Accuracy: 80.066%\n",
            "Epoch: 13 Test set: Average loss: 0.6646, Accuracy: 77.240%\n"
          ],
          "name": "stdout"
        },
        {
          "output_type": "stream",
          "text": [
            "loss=0.596774697303772 batch_id=390: 100%|██████████| 391/391 [00:16<00:00, 23.48it/s]\n",
            "  0%|          | 0/391 [00:00<?, ?it/s]"
          ],
          "name": "stderr"
        },
        {
          "output_type": "stream",
          "text": [
            "\n",
            "Epoch: 14 Train set: Average loss: 0.0044, Accuracy: 80.270%\n",
            "Epoch: 14 Test set: Average loss: 0.6463, Accuracy: 78.100%\n"
          ],
          "name": "stdout"
        },
        {
          "output_type": "stream",
          "text": [
            "loss=0.7277581095695496 batch_id=390: 100%|██████████| 391/391 [00:17<00:00, 22.96it/s]\n"
          ],
          "name": "stderr"
        },
        {
          "output_type": "stream",
          "text": [
            "\n",
            "Epoch: 15 Train set: Average loss: 0.0043, Accuracy: 80.574%\n",
            "Epoch: 15 Test set: Average loss: 0.6533, Accuracy: 78.090%\n",
            "Final model save path: /content/drive/My Drive/EVA4/model_saves/model-33ef5baa01.h5\n"
          ],
          "name": "stdout"
        }
      ]
    },
    {
      "cell_type": "code",
      "metadata": {
        "id": "YGF7bdirTlRL",
        "colab_type": "code",
        "colab": {
          "base_uri": "https://localhost:8080/",
          "height": 1000
        },
        "outputId": "870507ed-4ed5-4fba-e04e-fc5887967979"
      },
      "source": [
        "execute_model(model_new, hyperparameter_defaults, \n",
        "              trainloader, testloader, \n",
        "              device, classes,\n",
        "              optimizer=optimizer,\n",
        "              criterion=criterion,\n",
        "              prev_saved_model=\"/content/drive/My Drive/EVA4/model_saves/model-33ef5baa01.h5\")"
      ],
      "execution_count": 10,
      "outputs": [
        {
          "output_type": "display_data",
          "data": {
            "text/html": [
              "\n",
              "                Logging results to <a href=\"https://wandb.com\" target=\"_blank\">Weights & Biases</a> <a href=\"https://docs.wandb.com/integrations/jupyter.html\" target=\"_blank\">(Documentation)</a>.<br/>\n",
              "                Project page: <a href=\"https://app.wandb.ai/rajy4683/news4eva4\" target=\"_blank\">https://app.wandb.ai/rajy4683/news4eva4</a><br/>\n",
              "                Run page: <a href=\"https://app.wandb.ai/rajy4683/news4eva4/runs/mi0limq7\" target=\"_blank\">https://app.wandb.ai/rajy4683/news4eva4/runs/mi0limq7</a><br/>\n",
              "            "
            ],
            "text/plain": [
              "<IPython.core.display.HTML object>"
            ]
          },
          "metadata": {
            "tags": []
          }
        },
        {
          "output_type": "stream",
          "text": [
            "\r  0%|          | 0/391 [00:00<?, ?it/s]"
          ],
          "name": "stderr"
        },
        {
          "output_type": "stream",
          "text": [
            "Model saved to:  /content/drive/My Drive/EVA4/model_saves/model-2c0cd03c7a.h5\n",
            "Hyper Params:\n",
            "wandb_version: 1\n",
            "\n",
            "_wandb:\n",
            "  desc: null\n",
            "  value:\n",
            "    cli_version: 0.8.28\n",
            "    is_jupyter_run: true\n",
            "    python_version: 3.6.9\n",
            "batch_size:\n",
            "  desc: null\n",
            "  value: 128\n",
            "bias:\n",
            "  desc: null\n",
            "  value: false\n",
            "dropout:\n",
            "  desc: null\n",
            "  value: 0.1\n",
            "epochs:\n",
            "  desc: null\n",
            "  value: 15\n",
            "lr:\n",
            "  desc: null\n",
            "  value: 0.001\n",
            "momentum:\n",
            "  desc: null\n",
            "  value: 0.9\n",
            "no_cuda:\n",
            "  desc: null\n",
            "  value: false\n",
            "project:\n",
            "  desc: null\n",
            "  value: news4eva4\n",
            "run_name:\n",
            "  desc: null\n",
            "  value: 2c0cd03c7a\n",
            "sched_lr_gamma:\n",
            "  desc: null\n",
            "  value: 0.5\n",
            "sched_lr_step:\n",
            "  desc: null\n",
            "  value: 1\n",
            "seed:\n",
            "  desc: null\n",
            "  value: 1\n",
            "start_lr:\n",
            "  desc: null\n",
            "  value: 0\n",
            "test_batch_size:\n",
            "  desc: null\n",
            "  value: 128\n",
            "weight_decay:\n",
            "  desc: null\n",
            "  value: 0.0\n",
            "\n"
          ],
          "name": "stdout"
        },
        {
          "output_type": "stream",
          "text": [
            "loss=0.6560226678848267 batch_id=390: 100%|██████████| 391/391 [00:16<00:00, 23.96it/s]\n",
            "  0%|          | 0/391 [00:00<?, ?it/s]"
          ],
          "name": "stderr"
        },
        {
          "output_type": "stream",
          "text": [
            "\n",
            "Epoch: 1 Train set: Average loss: 0.0043, Accuracy: 80.814%\n",
            "Epoch: 1 Test set: Average loss: 0.6058, Accuracy: 79.270%\n"
          ],
          "name": "stdout"
        },
        {
          "output_type": "stream",
          "text": [
            "loss=0.5479023456573486 batch_id=390: 100%|██████████| 391/391 [00:16<00:00, 25.45it/s]\n",
            "  0%|          | 0/391 [00:00<?, ?it/s]"
          ],
          "name": "stderr"
        },
        {
          "output_type": "stream",
          "text": [
            "\n",
            "Epoch: 2 Train set: Average loss: 0.0042, Accuracy: 81.402%\n",
            "Epoch: 2 Test set: Average loss: 0.6538, Accuracy: 78.100%\n"
          ],
          "name": "stdout"
        },
        {
          "output_type": "stream",
          "text": [
            "loss=0.5473622679710388 batch_id=390: 100%|██████████| 391/391 [00:16<00:00, 28.28it/s]\n",
            "  0%|          | 0/391 [00:00<?, ?it/s]"
          ],
          "name": "stderr"
        },
        {
          "output_type": "stream",
          "text": [
            "\n",
            "Epoch: 3 Train set: Average loss: 0.0041, Accuracy: 81.560%\n",
            "Epoch: 3 Test set: Average loss: 0.5935, Accuracy: 79.610%\n"
          ],
          "name": "stdout"
        },
        {
          "output_type": "stream",
          "text": [
            "loss=0.5288415551185608 batch_id=390: 100%|██████████| 391/391 [00:16<00:00, 23.89it/s]\n",
            "  0%|          | 0/391 [00:00<?, ?it/s]"
          ],
          "name": "stderr"
        },
        {
          "output_type": "stream",
          "text": [
            "\n",
            "Epoch: 4 Train set: Average loss: 0.0041, Accuracy: 81.852%\n",
            "Epoch: 4 Test set: Average loss: 0.6304, Accuracy: 78.850%\n"
          ],
          "name": "stdout"
        },
        {
          "output_type": "stream",
          "text": [
            "loss=0.3926717936992645 batch_id=390: 100%|██████████| 391/391 [00:15<00:00, 24.44it/s]\n",
            "  0%|          | 0/391 [00:00<?, ?it/s]"
          ],
          "name": "stderr"
        },
        {
          "output_type": "stream",
          "text": [
            "\n",
            "Epoch: 5 Train set: Average loss: 0.0040, Accuracy: 81.936%\n",
            "Epoch: 5 Test set: Average loss: 0.5913, Accuracy: 80.420%\n"
          ],
          "name": "stdout"
        },
        {
          "output_type": "stream",
          "text": [
            "loss=0.5236110091209412 batch_id=390: 100%|██████████| 391/391 [00:16<00:00, 23.85it/s]\n",
            "  0%|          | 0/391 [00:00<?, ?it/s]"
          ],
          "name": "stderr"
        },
        {
          "output_type": "stream",
          "text": [
            "\n",
            "Epoch: 6 Train set: Average loss: 0.0039, Accuracy: 82.412%\n",
            "Epoch: 6 Test set: Average loss: 0.6160, Accuracy: 79.360%\n"
          ],
          "name": "stdout"
        },
        {
          "output_type": "stream",
          "text": [
            "loss=0.5712929964065552 batch_id=390: 100%|██████████| 391/391 [00:16<00:00, 23.51it/s]\n",
            "  0%|          | 0/391 [00:00<?, ?it/s]"
          ],
          "name": "stderr"
        },
        {
          "output_type": "stream",
          "text": [
            "\n",
            "Epoch: 7 Train set: Average loss: 0.0038, Accuracy: 82.636%\n",
            "Epoch: 7 Test set: Average loss: 0.6309, Accuracy: 79.080%\n"
          ],
          "name": "stdout"
        },
        {
          "output_type": "stream",
          "text": [
            "loss=0.3882059156894684 batch_id=390: 100%|██████████| 391/391 [00:16<00:00, 27.10it/s]\n",
            "  0%|          | 0/391 [00:00<?, ?it/s]"
          ],
          "name": "stderr"
        },
        {
          "output_type": "stream",
          "text": [
            "\n",
            "Epoch: 8 Train set: Average loss: 0.0038, Accuracy: 83.016%\n",
            "Epoch: 8 Test set: Average loss: 0.6016, Accuracy: 79.430%\n"
          ],
          "name": "stdout"
        },
        {
          "output_type": "stream",
          "text": [
            "loss=0.5510408282279968 batch_id=390: 100%|██████████| 391/391 [00:16<00:00, 24.02it/s]\n",
            "  0%|          | 0/391 [00:00<?, ?it/s]"
          ],
          "name": "stderr"
        },
        {
          "output_type": "stream",
          "text": [
            "\n",
            "Epoch: 9 Train set: Average loss: 0.0038, Accuracy: 83.006%\n",
            "Epoch: 9 Test set: Average loss: 0.5934, Accuracy: 80.330%\n"
          ],
          "name": "stdout"
        },
        {
          "output_type": "stream",
          "text": [
            "loss=0.49927225708961487 batch_id=390: 100%|██████████| 391/391 [00:16<00:00, 24.40it/s]\n",
            "  0%|          | 0/391 [00:00<?, ?it/s]"
          ],
          "name": "stderr"
        },
        {
          "output_type": "stream",
          "text": [
            "\n",
            "Epoch: 10 Train set: Average loss: 0.0037, Accuracy: 83.420%\n",
            "Epoch: 10 Test set: Average loss: 0.5863, Accuracy: 80.610%\n"
          ],
          "name": "stdout"
        },
        {
          "output_type": "stream",
          "text": [
            "loss=0.4629041254520416 batch_id=390: 100%|██████████| 391/391 [00:16<00:00, 23.01it/s]\n",
            "  0%|          | 0/391 [00:00<?, ?it/s]"
          ],
          "name": "stderr"
        },
        {
          "output_type": "stream",
          "text": [
            "\n",
            "Epoch: 11 Train set: Average loss: 0.0036, Accuracy: 83.694%\n",
            "Epoch: 11 Test set: Average loss: 0.5762, Accuracy: 80.720%\n"
          ],
          "name": "stdout"
        },
        {
          "output_type": "stream",
          "text": [
            "loss=0.5439021587371826 batch_id=390: 100%|██████████| 391/391 [00:17<00:00, 22.58it/s]\n",
            "  0%|          | 0/391 [00:00<?, ?it/s]"
          ],
          "name": "stderr"
        },
        {
          "output_type": "stream",
          "text": [
            "\n",
            "Epoch: 12 Train set: Average loss: 0.0036, Accuracy: 83.796%\n",
            "Epoch: 12 Test set: Average loss: 0.6117, Accuracy: 79.970%\n"
          ],
          "name": "stdout"
        },
        {
          "output_type": "stream",
          "text": [
            "loss=0.5392036437988281 batch_id=390: 100%|██████████| 391/391 [00:16<00:00, 23.61it/s]\n",
            "  0%|          | 0/391 [00:00<?, ?it/s]"
          ],
          "name": "stderr"
        },
        {
          "output_type": "stream",
          "text": [
            "\n",
            "Epoch: 13 Train set: Average loss: 0.0036, Accuracy: 84.004%\n",
            "Epoch: 13 Test set: Average loss: 0.5818, Accuracy: 80.580%\n"
          ],
          "name": "stdout"
        },
        {
          "output_type": "stream",
          "text": [
            "loss=0.4726472496986389 batch_id=390: 100%|██████████| 391/391 [00:16<00:00, 23.27it/s]\n",
            "  0%|          | 0/391 [00:00<?, ?it/s]"
          ],
          "name": "stderr"
        },
        {
          "output_type": "stream",
          "text": [
            "\n",
            "Epoch: 14 Train set: Average loss: 0.0035, Accuracy: 84.294%\n",
            "Epoch: 14 Test set: Average loss: 0.6012, Accuracy: 80.220%\n"
          ],
          "name": "stdout"
        },
        {
          "output_type": "stream",
          "text": [
            "loss=0.5983806848526001 batch_id=390: 100%|██████████| 391/391 [00:16<00:00, 23.90it/s]\n"
          ],
          "name": "stderr"
        },
        {
          "output_type": "stream",
          "text": [
            "\n",
            "Epoch: 15 Train set: Average loss: 0.0035, Accuracy: 84.454%\n",
            "Epoch: 15 Test set: Average loss: 0.6293, Accuracy: 79.660%\n",
            "Final model save path: /content/drive/My Drive/EVA4/model_saves/model-2c0cd03c7a.h5\n"
          ],
          "name": "stdout"
        }
      ]
    },
    {
      "cell_type": "code",
      "metadata": {
        "id": "d1wXrSOzSEnT",
        "colab_type": "code",
        "colab": {}
      },
      "source": [
        "%autoreload 2\n",
        "from RekogNizer import logger\n",
        "run_list = [\"rajy4683/news4eva4/runs/h5cejeg2\",\"rajy4683/news4eva4/runs/2zoz8lca\", \"rajy4683/news4eva4/runs/mi0limq7\"]\n",
        "\n",
        "runs_df = logger.get_wandb_dataframes(run_list=run_list)\n",
        "new_df = pd.DataFrame().append(runs_df)"
      ],
      "execution_count": 0,
      "outputs": []
    },
    {
      "cell_type": "code",
      "metadata": {
        "id": "8m9CwBmEk0ja",
        "colab_type": "code",
        "colab": {
          "base_uri": "https://localhost:8080/",
          "height": 388
        },
        "outputId": "6e8f546e-37fe-4993-f6d9-44dc2ef76acc"
      },
      "source": [
        "from RekogNizer import fileutils\n",
        "fileutils.plot_graphs([new_df],\n",
        "            ['Train Accuracy', 'Test Accuracy'],\n",
        "            columns=['Train Accuracy', 'Test Accuracy'],\n",
        "            xlabel=\"Epochs\",\n",
        "            ylabel=\"Accuracy\")"
      ],
      "execution_count": 44,
      "outputs": [
        {
          "output_type": "display_data",
          "data": {
            "image/png": "[encoded data removed]",
            "text/plain": [
              "<Figure size 1080x432 with 1 Axes>"
            ]
          },
          "metadata": {
            "tags": []
          }
        }
      ]
    },
    {
      "cell_type": "code",
      "metadata": {
        "id": "Aabpei54noC9",
        "colab_type": "code",
        "colab": {
          "base_uri": "https://localhost:8080/",
          "height": 388
        },
        "outputId": "2b2bf94f-cf3d-4fde-dea6-07520c46d923"
      },
      "source": [
        "fileutils.plot_graphs([new_df],\n",
        "            ['Train Loss', 'Test Loss'],\n",
        "            columns=['Train Loss', 'Test Loss'],\n",
        "            xlabel=\"Epochs\",\n",
        "            ylabel=\"Loss\")"
      ],
      "execution_count": 45,
      "outputs": [
        {
          "output_type": "display_data",
          "data": {
            "image/png": "[encoded data removed]",
            "text/plain": [
              "<Figure size 1080x432 with 1 Axes>"
            ]
          },
          "metadata": {
            "tags": []
          }
        }
      ]
    },
    {
      "cell_type": "code",
      "metadata": {
        "id": "nZN0xAFw6wvv",
        "colab_type": "code",
        "colab": {}
      },
      "source": [
        "from RekogNizer import traintest\n"
      ],
      "execution_count": 0,
      "outputs": []
    },
    {
      "cell_type": "code",
      "metadata": {
        "id": "CYa0qqvV62FH",
        "colab_type": "code",
        "colab": {
          "base_uri": "https://localhost:8080/",
          "height": 185
        },
        "outputId": "419f3e8f-ab0f-495a-eacd-05f2c75db560"
      },
      "source": [
        "my_model = traintest.model_builder(basemodelclass.CIFARModelDepthDilate, weights_path=\"/content/drive/My Drive/EVA4/model_saves/model-2c0cd03c7a.h5\")\n",
        "class_accuracy_dict = traintest.classwise_accuracy(my_model, testloader, classes, device=torch.device(\"cpu\"))"
      ],
      "execution_count": 88,
      "outputs": [
        {
          "output_type": "stream",
          "text": [
            "Accuracy of plane : 80 %\n",
            "Accuracy of   car : 87 %\n",
            "Accuracy of  bird : 67 %\n",
            "Accuracy of   cat : 57 %\n",
            "Accuracy of  deer : 70 %\n",
            "Accuracy of   dog : 68 %\n",
            "Accuracy of  frog : 82 %\n",
            "Accuracy of horse : 81 %\n",
            "Accuracy of  ship : 86 %\n",
            "Accuracy of truck : 85 %\n"
          ],
          "name": "stdout"
        }
      ]
    },
    {
      "cell_type": "code",
      "metadata": {
        "id": "SHWqpjvd9uee",
        "colab_type": "code",
        "colab": {
          "base_uri": "https://localhost:8080/",
          "height": 282
        },
        "outputId": "1cb9b2a9-1953-4ab6-fcc0-a0877aac130a"
      },
      "source": [
        "plt.bar([key for key in class_accuracy_dict.keys()],[val for val in class_accuracy_dict.values()])"
      ],
      "execution_count": 89,
      "outputs": [
        {
          "output_type": "execute_result",
          "data": {
            "text/plain": [
              "<BarContainer object of 10 artists>"
            ]
          },
          "metadata": {
            "tags": []
          },
          "execution_count": 89
        },
        {
          "output_type": "display_data",
          "data": {
            "image/png": "[encoded data removed]",
            "text/plain": [
              "<Figure size 432x288 with 1 Axes>"
            ]
          },
          "metadata": {
            "tags": []
          }
        }
      ]
    }
  ]
}